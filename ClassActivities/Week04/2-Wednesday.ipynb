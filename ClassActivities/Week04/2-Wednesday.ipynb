{
  "cells": [
    {
      "cell_type": "markdown",
      "metadata": {},
      "source": [
        "# Wednesday, September 13\n",
        "## Before Class:\n",
        "Find the other students in the class that have the same number as you.  Sit together so you can work on today's activity as a group.  Introduce yourselves: name, major, etc.\n",
        "\n",
        "## Announcements and Reminders\n",
        "- Quiz on conditionals (chapter 5): Monday\n",
        "- Chapter 5 Exercises: Due Monday\n",
        "- Read Chapter 6: Due Monday\n",
        "- Programming Assignment 2: Due ~~Monday~~ next Wednesday.  Do you have a group yet?\n",
        "\n",
        "### Questions:"
      ]
    },
    {
      "cell_type": "markdown",
      "metadata": {},
      "source": [
        "### Wrap up from Monday\n",
        "Open up Monday's notebook and let's look at the last few tasks."
      ]
    },
    {
      "cell_type": "markdown",
      "metadata": {
        "id": "rPcP5eWXAO1Y"
      },
      "source": [
        "\n",
        "## Activity: Guess who! (If you want, or Else!)\n",
        "\n",
        "\n",
        "Our goal today is to write a computer program to play Guess Who with us.  Specifically, our challenge is to write a program that will correctly guess which of 26 animals we are thinking of, by asking at as few questions as possible.\n",
        "\n",
        "To start us off, run the cell below to see how the game will start."
      ]
    },
    {
      "cell_type": "code",
      "execution_count": 1,
      "metadata": {},
      "outputs": [
        {
          "name": "stdout",
          "output_type": "stream",
          "text": [
            "Hello player.  I am going to read your mind.  I want you to think of any animal.  Any animal at all.  As long as they are in the following list:\n",
            "\n",
            "1. Artie Aardvark,\n",
            "2. Bobby Bobcat, \n",
            "3. Coby Cobra, \n",
            "4. Dobby Dolphin, \n",
            "5. Eddie Eagle, \n",
            "6. Finnegan Finch, \n",
            "7. Geoffrey Giraffe,\n",
            "8. Humphry Hummingbird,\n",
            "9. Iggy Iguana,\n",
            "10. Javier Jaguar,\n",
            "11. Kenny Kangaroo,\n",
            "12. Larry Lion,\n",
            "13. Moses Monkey,\n",
            "14. Nicky Newt,\n",
            "15. Ollie Owl,\n",
            "16. Peter Python,\n",
            "17. Quincy Quail,\n",
            "18. Reggie Rattlesnake,\n",
            "19. Terry Tiger,\n",
            "20. Sherman Shark,\n",
            "21. Ulysses Narwal,\n",
            "22. Voltaire Vulture,\n",
            "23. Wally Walrus,\n",
            "24. Xavier X-ray fish,\n",
            "25. Yolanda Yak,\n",
            "26. and Zachary Zebra.\n"
          ]
        }
      ],
      "source": [
        "def display_choices():\n",
        "  print(\"Hello player.  I am going to read your mind.  I want you to think of any animal.  Any animal at all.  As long as they are in the following list:\")\n",
        "  print()\n",
        "  print(\"1. Artie Aardvark,\\n2. Bobby Bobcat, \\n3. Coby Cobra, \\n4. Dobby Dolphin, \\n5. Eddie Eagle, \\n6. Finnegan Finch, \\n7. Geoffrey Giraffe,\\n8. Humphry Hummingbird,\\n9. Iggy Iguana,\\n10. Javier Jaguar,\\n11. Kenny Kangaroo,\\n12. Larry Lion,\\n13. Moses Monkey,\\n14. Nicky Newt,\\n15. Ollie Owl,\\n16. Peter Python,\\n17. Quincy Quail,\\n18. Reggie Rattlesnake,\\n19. Terry Tiger,\\n20. Sherman Shark,\\n21. Ulysses Narwal,\\n22. Voltaire Vulture,\\n23. Wally Walrus,\\n24. Xavier X-ray fish,\\n25. Yolanda Yak,\\n26. and Zachary Zebra.\")\n",
        "\n",
        "display_choices()"
      ]
    },
    {
      "cell_type": "markdown",
      "metadata": {},
      "source": [
        "Let's start out simple.  Write a python function below that asks **two** questions.  Based on the answers given by the user, your program should correctly identify which of the first four animals the player was thinking of."
      ]
    },
    {
      "cell_type": "code",
      "execution_count": 3,
      "metadata": {},
      "outputs": [
        {
          "ename": "NameError",
          "evalue": "name 'display_choices' is not defined",
          "output_type": "error",
          "traceback": [
            "\u001b[0;31m---------------------------------------------------------------------------\u001b[0m",
            "\u001b[0;31mNameError\u001b[0m                                 Traceback (most recent call last)",
            "\u001b[1;32m/workspaces/Fall-2023-files/ClassActivities/Week04/2-Wednesday.ipynb Cell 6\u001b[0m line \u001b[0;36m4\n\u001b[1;32m      <a href='vscode-notebook-cell://codespaces%2Bredesigned-goggles-979w7qqjjv5g27prg/workspaces/Fall-2023-files/ClassActivities/Week04/2-Wednesday.ipynb#X11sdnNjb2RlLXJlbW90ZQ%3D%3D?line=0'>1</a>\u001b[0m \u001b[39mdef\u001b[39;00m \u001b[39mguessing\u001b[39m():\n\u001b[1;32m      <a href='vscode-notebook-cell://codespaces%2Bredesigned-goggles-979w7qqjjv5g27prg/workspaces/Fall-2023-files/ClassActivities/Week04/2-Wednesday.ipynb#X11sdnNjb2RlLXJlbW90ZQ%3D%3D?line=1'>2</a>\u001b[0m     \u001b[39mpass\u001b[39;00m\n\u001b[0;32m----> <a href='vscode-notebook-cell://codespaces%2Bredesigned-goggles-979w7qqjjv5g27prg/workspaces/Fall-2023-files/ClassActivities/Week04/2-Wednesday.ipynb#X11sdnNjb2RlLXJlbW90ZQ%3D%3D?line=3'>4</a>\u001b[0m display_choices()\n\u001b[1;32m      <a href='vscode-notebook-cell://codespaces%2Bredesigned-goggles-979w7qqjjv5g27prg/workspaces/Fall-2023-files/ClassActivities/Week04/2-Wednesday.ipynb#X11sdnNjb2RlLXJlbW90ZQ%3D%3D?line=4'>5</a>\u001b[0m \u001b[39minput\u001b[39m(\u001b[39m\"\u001b[39m\u001b[39mready? (press enter)\u001b[39m\u001b[39m\"\u001b[39m)\n\u001b[1;32m      <a href='vscode-notebook-cell://codespaces%2Bredesigned-goggles-979w7qqjjv5g27prg/workspaces/Fall-2023-files/ClassActivities/Week04/2-Wednesday.ipynb#X11sdnNjb2RlLXJlbW90ZQ%3D%3D?line=5'>6</a>\u001b[0m guessing()\n",
            "\u001b[0;31mNameError\u001b[0m: name 'display_choices' is not defined"
          ]
        }
      ],
      "source": [
        "def guessing():\n",
        "    leg_answer = input(\"does your animal have legs?\")\n",
        "    if leg_answer == \"yes\":\n",
        "        print(\"you said yes\")\n",
        "        ant_answer = input(\"does your animal eat ants?\")\n",
        "        if ant_answer == \"yes\": \n",
        "            print(\"your thinking of an aardvark\")\n",
        "        else:\n",
        "            print(\"your are thinking of a bobcat\")\n",
        "    else:\n",
        "        scales_answer == \"yes\":\n",
        "        print \n",
        "\n",
        "\n",
        "\n",
        "display_choices()\n",
        "input(\"ready? (press enter)\")\n",
        "guessing()\n",
        "print(\"TADA\")\n"
      ]
    },
    {
      "cell_type": "markdown",
      "metadata": {},
      "source": [
        "Now work with your group to expand your questions so you can distinguish between all the animals. \n",
        "\n",
        "Hint: you don't have to ask just yes/no questions.   "
      ]
    },
    {
      "cell_type": "code",
      "execution_count": null,
      "metadata": {},
      "outputs": [],
      "source": []
    }
  ],
  "metadata": {
    "colab": {
      "include_colab_link": true,
      "provenance": []
    },
    "kernelspec": {
      "display_name": "Python 3",
      "name": "python3"
    },
    "language_info": {
      "codemirror_mode": {
        "name": "ipython",
        "version": 3
      },
      "file_extension": ".py",
      "mimetype": "text/x-python",
      "name": "python",
      "nbconvert_exporter": "python",
      "pygments_lexer": "ipython3",
      "version": "3.10.8"
    }
  },
  "nbformat": 4,
  "nbformat_minor": 0
}
