{
  "cells": [
    {
      "cell_type": "markdown",
      "metadata": {},
      "source": [
        "# Monday, October 30\n",
        "\n",
        "## Announcements and Reminders\n",
        "\n",
        "- Read Chapter 11 (due Wednesday)\n",
        "- Next Project Check-in: Friday\n",
        "- Programming Assignment 5: Next Friday (but start NOW)\n"
      ]
    },
    {
      "cell_type": "markdown",
      "metadata": {},
      "source": [
        "## Activity: Sorting a Database\n",
        "\n",
        "Let's continue with our movie database project.  The code below will read in the `csv` file, create a giant list of dictionaries, where each one is a movie.  We will call this list `moviedb`."
      ]
    },
    {
      "cell_type": "code",
      "execution_count": 2,
      "metadata": {},
      "outputs": [],
      "source": [
        "import csv\n",
        "\n",
        "# Open the file\n",
        "with open('../Week10/imdb.csv', 'r') as f:\n",
        "  # Use the csv library to read the data\n",
        "  data = list(csv.reader(f))\n",
        "\n",
        "# Since data[0] contains the column headers, we can use those to create a dictionary for each movie where the keys are the column headers, and the values are the corresponding entries for that movie.  Then add each movie to the list `moviedb`\n",
        "moviedb = []\n",
        "for row in range(1,len(data)):\n",
        "  movie = {}\n",
        "  for col in range(len(data[0])):\n",
        "    movie[data[0][col]] = data[row][col]\n",
        "\n",
        "  moviedb.append(movie)"
      ]
    },
    {
      "cell_type": "markdown",
      "metadata": {},
      "source": [
        "Print out a few individual movies:"
      ]
    },
    {
      "cell_type": "code",
      "execution_count": 4,
      "metadata": {},
      "outputs": [
        {
          "name": "stdout",
          "output_type": "stream",
          "text": [
            "{'Title': 'Superbabies: Baby Geniuses 2', 'Year': '2004', 'Rated': 'PG', 'Released': '27 Aug 2004', 'Runtime': '88 min', 'Genre': 'Comedy, Family, Sci-Fi', 'Director': 'Bob Clark', 'Writer': 'Steven Paul (story), Gregory Poppen (screenplay)', 'Actors': 'Jon Voight, Scott Baio, Vanessa Angel, Skyler Shaye', 'Plot': \"A group of smart-talking toddlers find themselves at the center of a media mogul's experiment to crack the code to baby talk. The toddlers must race against time for the sake of babies everywhere.\", 'Language': 'English', 'Country': 'Germany, UK, USA', 'Awards': '13 nominations.', 'Poster': 'https://images-na.ssl-images-amazon.com/images/M/MV5BNjY4NjM3MjQ2OF5BMl5BanBnXkFtZTcwOTc3NzYyMQ@@._V1_SX300.jpg', 'Ratings.Source': 'Internet Movie Database', 'Ratings.Value': '2.0/10', 'Metascore': '9', 'imdbRating': '2.0', 'imdbVotes': '26,376', 'imdbID': 'tt0270846', 'Type': 'movie', 'DVD': '04 Jan 2005', 'BoxOffice': '$9,016,422', 'Production': 'Sony', 'Website': 'http://www.sonypictures.com/movies/superbabiesbabygeniuses2/index.html', 'Response': 'True', 'tomatoURL': 'http://www.rottentomatoes.com/m/super_babies_baby_geniuses_2/'}\n",
            "{'Title': 'Tin Can Man', 'Year': '2007', 'Rated': 'N/A', 'Released': '01 Mar 2012', 'Runtime': '83 min', 'Genre': 'Horror', 'Director': 'Ivan Kavanagh', 'Writer': 'Ivan Kavanagh', 'Actors': \"Patrick O'Donnell, Michael Parle, Emma Eliza Regan, Kreeta Taponen\", 'Plot': 'Recently dumped by his girlfriend for another man, working in a job he hates, things could be better for Peter. One night, while he is alone in his apartment, there is a knock at the door. His life will never be the same again.', 'Language': 'English', 'Country': 'Ireland', 'Awards': '2 wins.', 'Poster': 'https://images-na.ssl-images-amazon.com/images/M/MV5BMTM5NTU4Njk5M15BMl5BanBnXkFtZTcwNTA4ODE0Nw@@._V1_SX300.jpg', 'Ratings.Source': 'Internet Movie Database', 'Ratings.Value': '6.6/10', 'Metascore': 'N/A', 'imdbRating': '6.6', 'imdbVotes': '65', 'imdbID': 'tt1235811', 'Type': 'movie', 'DVD': '22 Apr 2014', 'BoxOffice': 'N/A', 'Production': 'MVD Entertainment Group', 'Website': 'N/A', 'Response': 'True', 'tomatoURL': 'N/A'}\n",
            "5273\n"
          ]
        }
      ],
      "source": [
        "print(moviedb[2])\n",
        "print(moviedb[-17])\n",
        "print(len(moviedb))"
      ]
    },
    {
      "cell_type": "markdown",
      "metadata": {},
      "source": [
        "### Database operations\n",
        "\n",
        "Now we have this database; what can we do with it?  There are three natural operations: **filtering**, **sorting**, and **searching**\n",
        "\n",
        "#### Searching\n",
        "\n",
        "This is the easiest of the operations, at least if we don't care about speed.  How do we know if our database contains a movie with the word \"chess\" in the title?  Just look at each movie until you find one that has it.\n"
      ]
    },
    {
      "cell_type": "code",
      "execution_count": 9,
      "metadata": {},
      "outputs": [
        {
          "name": "stdout",
          "output_type": "stream",
          "text": [
            "The Missing Person\n"
          ]
        }
      ],
      "source": [
        "for movie in moviedb:\n",
        "    if \"missing\" in movie['Title'].lower():\n",
        "        print(movie['Title'])\n"
      ]
    },
    {
      "cell_type": "markdown",
      "metadata": {},
      "source": [
        "#### Filtering\n",
        "\n",
        "What if we want to limit our movies to just the horror-comedies?  This is basically just search, but instead of just finding the first one, we will collect all the \"winners\" in a new list.  Try it:"
      ]
    },
    {
      "cell_type": "code",
      "execution_count": 17,
      "metadata": {},
      "outputs": [
        {
          "name": "stdout",
          "output_type": "stream",
          "text": [
            "[{'Title': 'Bhool Bhulaiyaa', 'Year': '2007', 'Rated': 'N/A', 'Released': '12 Oct 2007', 'Runtime': '159 min', 'Genre': 'Comedy, Horror, Mystery', 'Director': 'Priyadarshan', 'Writer': 'Neeraj Vora (screenplay), Manisha Korde (dialogue), Madhu Muttam (original story)', 'Actors': 'Akshay Kumar, Vidya Balan, Ameesha Patel, Shiney Ahuja', 'Plot': \"When U.S.-based Siddharth visits his Indian home town with his new wife, he insists they stay at the ancestral home, laughing off family members' warnings of ghostly goings-on in the ...\", 'Language': 'Hindi, Bengali', 'Country': 'India', 'Awards': '11 nominations.', 'Poster': 'https://images-na.ssl-images-amazon.com/images/M/MV5BMjAyMjQ1Mjg5MV5BMl5BanBnXkFtZTgwOTk3MTA2MDE@._V1_SX300.jpg', 'Ratings.Source': 'Internet Movie Database', 'Ratings.Value': '7.3/10', 'Metascore': 'N/A', 'imdbRating': '7.3', 'imdbVotes': '14,307', 'imdbID': 'tt0995031', 'Type': 'movie', 'DVD': '04 Dec 2007', 'BoxOffice': '$1,000,000', 'Production': 'Eros Entertainment', 'Website': 'http://www.bhoolbhulaiyaa.com', 'Response': 'True', 'tomatoURL': 'http://www.rottentomatoes.com/m/bhool_bhulaiyaa/'}, {'Title': 'Zombieland', 'Year': '2009', 'Rated': 'R', 'Released': '02 Oct 2009', 'Runtime': '88 min', 'Genre': 'Adventure, Comedy, Horror', 'Director': 'Ruben Fleischer', 'Writer': 'Rhett Reese, Paul Wernick', 'Actors': 'Jesse Eisenberg, Woody Harrelson, Emma Stone, Abigail Breslin', 'Plot': 'A shy student trying to reach his family in Ohio, a gun-toting tough guy trying to find the last Twinkie, and a pair of sisters trying to get to an amusement park join forces to travel across a zombie-filled America.', 'Language': 'English', 'Country': 'USA', 'Awards': '9 wins & 28 nominations.', 'Poster': 'https://images-na.ssl-images-amazon.com/images/M/MV5BMTU5MDg0NTQ1N15BMl5BanBnXkFtZTcwMjA4Mjg3Mg@@._V1_SX300.jpg', 'Ratings.Source': 'Internet Movie Database', 'Ratings.Value': '7.7/10', 'Metascore': '73', 'imdbRating': '7.7', 'imdbVotes': '411,455', 'imdbID': 'tt1156398', 'Type': 'movie', 'DVD': '02 Feb 2010', 'BoxOffice': '$75,590,286', 'Production': 'Sony/Columbia Pictures', 'Website': 'http://www.zombieland.com/', 'Response': 'True', 'tomatoURL': 'http://www.rottentomatoes.com/m/zombieland/'}, {'Title': 'The Host', 'Year': '2006', 'Rated': 'R', 'Released': '30 Mar 2007', 'Runtime': '120 min', 'Genre': 'Comedy, Drama, Horror', 'Director': 'Bong Joon Ho', 'Writer': 'Bong Joon Ho (screenplay), Won-jun Ha (screenplay), Chul-hyun Baek (screenplay)', 'Actors': 'Kang-ho Song, Hee-Bong Byun, Hae-il Park, Doona Bae', 'Plot': \"A monster emerges from Seoul's Han River and focuses its attention on attacking people. One victim's loving family does what it can to rescue her from its clutches.\", 'Language': 'Korean, English', 'Country': 'South Korea', 'Awards': '25 wins & 24 nominations.', 'Poster': 'https://images-na.ssl-images-amazon.com/images/M/MV5BMTc1NDQ0MDQ2N15BMl5BanBnXkFtZTgwMjE0NjQ0MDI@._V1_SX300.jpg', 'Ratings.Source': 'Internet Movie Database', 'Ratings.Value': '7.0/10', 'Metascore': '85', 'imdbRating': '7.0', 'imdbVotes': '73,904', 'imdbID': 'tt0468492', 'Type': 'movie', 'DVD': '24 Jul 2007', 'BoxOffice': '$2,010,000', 'Production': 'Magnolia Pictures', 'Website': 'http://www.hostmovie.com/', 'Response': 'True', 'tomatoURL': 'http://www.rottentomatoes.com/m/the_host_2007/'}, {'Title': 'Gremlins', 'Year': '1984', 'Rated': 'PG', 'Released': '08 Jun 1984', 'Runtime': '106 min', 'Genre': 'Comedy, Fantasy, Horror', 'Director': 'Joe Dante', 'Writer': 'Chris Columbus', 'Actors': 'Hoyt Axton, John Louie, Keye Luke, Don Steele', 'Plot': 'A boy inadvertently breaks three important rules concerning his new pet and unleashes a horde of malevolently mischievous monsters on a small town.', 'Language': 'English, Spanish', 'Country': 'USA', 'Awards': '7 wins & 6 nominations.', 'Poster': 'https://images-na.ssl-images-amazon.com/images/M/MV5BZDVjN2FkYTQtNTBlOC00MjM5LTgzMWEtZWRlNGUyYmNiOTFiXkEyXkFqcGdeQXVyMTQxNzMzNDI@._V1_SX300.jpg', 'Ratings.Source': 'Internet Movie Database', 'Ratings.Value': '7.2/10', 'Metascore': '70', 'imdbRating': '7.2', 'imdbVotes': '154,176', 'imdbID': 'tt0087363', 'Type': 'movie', 'DVD': '22 Jun 1999', 'BoxOffice': 'N/A', 'Production': 'Warner Bros. Pictures', 'Website': 'N/A', 'Response': 'True', 'tomatoURL': 'http://www.rottentomatoes.com/m/gremlins/'}, {'Title': 'Army of Darkness', 'Year': '1992', 'Rated': 'R', 'Released': '19 Feb 1993', 'Runtime': '81 min', 'Genre': 'Comedy, Horror', 'Director': 'Sam Raimi', 'Writer': 'Sam Raimi, Ivan Raimi', 'Actors': 'Bruce Campbell, Embeth Davidtz, Marcus Gilbert, Ian Abercrombie', 'Plot': 'A man is accidentally transported to 1300 A.D., where he must battle an army of the dead and retrieve the Necronomicon so he can return home.', 'Language': 'English', 'Country': 'USA', 'Awards': '10 wins & 5 nominations.', 'Poster': 'https://images-na.ssl-images-amazon.com/images/M/MV5BODcyYzM4YTAtNGM5MS00NjU4LTk2Y2ItZjI5NjkzZTk0MmQ1XkEyXkFqcGdeQXVyNjU0OTQ0OTY@._V1_SX300.jpg', 'Ratings.Source': 'Internet Movie Database', 'Ratings.Value': '7.6/10', 'Metascore': '57', 'imdbRating': '7.6', 'imdbVotes': '137,392', 'imdbID': 'tt0106308', 'Type': 'movie', 'DVD': '06 Aug 2002', 'BoxOffice': 'N/A', 'Production': 'Universal Pictures', 'Website': 'N/A', 'Response': 'True', 'tomatoURL': 'http://www.rottentomatoes.com/m/army_of_darkness/'}, {'Title': 'Tremors', 'Year': '1990', 'Rated': 'PG-13', 'Released': '19 Jan 1990', 'Runtime': '96 min', 'Genre': 'Comedy, Horror', 'Director': 'Ron Underwood', 'Writer': 'S.S. Wilson (story), Brent Maddock (story), Ron Underwood (story), S.S. Wilson (screenplay), Brent Maddock (screenplay)', 'Actors': 'Kevin Bacon, Fred Ward, Finn Carter, Michael Gross', 'Plot': 'Natives of a small isolated town defend themselves against strange underground creatures which are killing them one by one.', 'Language': 'English', 'Country': 'USA', 'Awards': '5 nominations.', 'Poster': 'https://images-na.ssl-images-amazon.com/images/M/MV5BMTEzNjkwMzIyMjZeQTJeQWpwZ15BbWU4MDI2NTU5ODYx._V1_SX300.jpg', 'Ratings.Source': 'Internet Movie Database', 'Ratings.Value': '7.1/10', 'Metascore': '65', 'imdbRating': '7.1', 'imdbVotes': '96,805', 'imdbID': 'tt0100814', 'Type': 'movie', 'DVD': '28 Apr 1998', 'BoxOffice': 'N/A', 'Production': 'MCA/Universal Pictures', 'Website': 'N/A', 'Response': 'True', 'tomatoURL': 'http://www.rottentomatoes.com/m/tremors/'}, {'Title': 'The Lost Boys', 'Year': '1987', 'Rated': 'R', 'Released': '31 Jul 1987', 'Runtime': '97 min', 'Genre': 'Comedy, Horror', 'Director': 'Joel Schumacher', 'Writer': 'Jan Fischer (story), James Jeremias (story), Jan Fischer (screenplay), James Jeremias (screenplay), Jeffrey Boam (screenplay)', 'Actors': 'Jason Patric, Corey Haim, Dianne Wiest, Barnard Hughes', 'Plot': 'After moving to a new town, two brothers discover that the area is a haven for vampires.', 'Language': 'English', 'Country': 'USA', 'Awards': '3 wins & 5 nominations.', 'Poster': 'https://images-na.ssl-images-amazon.com/images/M/MV5BMWEzNmUxZTMtZjY0My00OGNmLWIyNDctODM2YzZjM2YwZWEwXkEyXkFqcGdeQXVyMTQxNzMzNDI@._V1_SX300.jpg', 'Ratings.Source': 'Internet Movie Database', 'Ratings.Value': '7.3/10', 'Metascore': '63', 'imdbRating': '7.3', 'imdbVotes': '98,500', 'imdbID': 'tt0093437', 'Type': 'movie', 'DVD': '27 Jan 1998', 'BoxOffice': 'N/A', 'Production': 'Warner Bros. Pictures', 'Website': 'N/A', 'Response': 'True', 'tomatoURL': 'http://www.rottentomatoes.com/m/lost_boys/'}, {'Title': 'The Return of the Living Dead', 'Year': '1985', 'Rated': 'R', 'Released': '16 Aug 1985', 'Runtime': '91 min', 'Genre': 'Comedy, Horror', 'Director': \"Dan O'Bannon\", 'Writer': \"Rudy Ricci (story), John A. Russo (story), Russell Streiner (story), Dan O'Bannon (screenplay)\", 'Actors': 'Clu Gulager, James Karen, Don Calfa, Thom Mathews', 'Plot': 'When two bumbling employees at a medical supply warehouse accidentally release a deadly gas into the air, the vapors cause the dead to rise again as zombies.', 'Language': 'English', 'Country': 'USA', 'Awards': '4 nominations.', 'Poster': 'https://images-na.ssl-images-amazon.com/images/M/MV5BYzY0ZjJlNmMtMGU3NC00Yjk3LTk0N2ItMDNlMDVhZjA4OTFmXkEyXkFqcGdeQXVyMTQxNzMzNDI@._V1_SX300.jpg', 'Ratings.Source': 'Internet Movie Database', 'Ratings.Value': '7.3/10', 'Metascore': 'N/A', 'imdbRating': '7.3', 'imdbVotes': '42,619', 'imdbID': 'tt0089907', 'Type': 'movie', 'DVD': '27 Aug 2002', 'BoxOffice': 'N/A', 'Production': 'HBO Video', 'Website': 'N/A', 'Response': 'True', 'tomatoURL': 'http://www.rottentomatoes.com/m/return_of_the_living_dead/'}, {'Title': 'Shaun of the Dead', 'Year': '2004', 'Rated': 'R', 'Released': '24 Sep 2004', 'Runtime': '99 min', 'Genre': 'Comedy, Horror', 'Director': 'Edgar Wright', 'Writer': 'Simon Pegg, Edgar Wright', 'Actors': 'Simon Pegg, Kate Ashfield, Nick Frost, Lucy Davis', 'Plot': 'A man decides to turn his moribund life around by winning back his ex-girlfriend, reconciling his relationship with his mother, and dealing with an entire community that has returned from the dead to eat the living.', 'Language': 'English', 'Country': 'UK, France', 'Awards': '13 wins & 20 nominations.', 'Poster': 'https://images-na.ssl-images-amazon.com/images/M/MV5BMTU2NjA0NDk0NV5BMl5BanBnXkFtZTcwOTA0OTQzMw@@._V1_SX300.jpg', 'Ratings.Source': 'Internet Movie Database', 'Ratings.Value': '8.0/10', 'Metascore': '76', 'imdbRating': '8.0', 'imdbVotes': '421,477', 'imdbID': 'tt0365748', 'Type': 'movie', 'DVD': '21 Dec 2004', 'BoxOffice': '$13,464,388', 'Production': 'Focus Features', 'Website': 'http://uip.co.uk/romzom/', 'Response': 'True', 'tomatoURL': 'http://www.rottentomatoes.com/m/shaun_of_the_dead/'}, {'Title': 'Tucker and Dale vs Evil', 'Year': '2010', 'Rated': 'R', 'Released': '09 Dec 2010', 'Runtime': '89 min', 'Genre': 'Comedy, Horror', 'Director': 'Eli Craig', 'Writer': 'Eli Craig, Morgan Jurgenson', 'Actors': 'Tyler Labine, Alan Tudyk, Katrina Bowden, Jesse Moss', 'Plot': 'Affable hillbillies Tucker and Dale are on vacation at their dilapidated mountain cabin when they are mistaken for murderers by a group of preppy college students.', 'Language': 'English', 'Country': 'Canada, USA, India, UK', 'Awards': '10 wins & 13 nominations.', 'Poster': 'https://images-na.ssl-images-amazon.com/images/M/MV5BODQ5NDQ0MjkwMF5BMl5BanBnXkFtZTcwNDg1OTU4NQ@@._V1_SX300.jpg', 'Ratings.Source': 'Internet Movie Database', 'Ratings.Value': '7.6/10', 'Metascore': '65', 'imdbRating': '7.6', 'imdbVotes': '137,551', 'imdbID': 'tt1465522', 'Type': 'movie', 'DVD': '29 Nov 2011', 'BoxOffice': '$154,232', 'Production': 'Magnet Releasing', 'Website': 'http://www.magnetreleasing.com/tuckeranddalevsevil/', 'Response': 'True', 'tomatoURL': 'http://www.rottentomatoes.com/m/tucker_and_dale_vs_evil/'}, {'Title': 'Evil Dead II', 'Year': '1987', 'Rated': 'R', 'Released': '13 Mar 1987', 'Runtime': '84 min', 'Genre': 'Comedy, Horror', 'Director': 'Sam Raimi', 'Writer': 'Sam Raimi, Scott Spiegel', 'Actors': 'Bruce Campbell, Sarah Berry, Dan Hicks, Kassie Wesley DePaiva', 'Plot': 'The lone survivor of an onslaught of flesh-possessing spirits holes up in a cabin with a group of strangers while the demons continue their attack.', 'Language': 'English, Latin', 'Country': 'USA', 'Awards': '5 nominations.', 'Poster': 'https://images-na.ssl-images-amazon.com/images/M/MV5BMTA4Nzg5MjMwNzFeQTJeQWpwZ15BbWU4MDA2NDg4MDcx._V1_SX300.jpg', 'Ratings.Source': 'Internet Movie Database', 'Ratings.Value': '7.8/10', 'Metascore': '69', 'imdbRating': '7.8', 'imdbVotes': '121,548', 'imdbID': 'tt0092991', 'Type': 'movie', 'DVD': '04 Aug 1998', 'BoxOffice': 'N/A', 'Production': 'Rosebud Communications Releasing', 'Website': 'N/A', 'Response': 'True', 'tomatoURL': 'http://www.rottentomatoes.com/m/evil_dead_2_dead_by_dawn/'}, {'Title': \"A Beginner's Guide to Snuff\", 'Year': '2016', 'Rated': 'N/A', 'Released': '04 Mar 2016', 'Runtime': '87 min', 'Genre': 'Comedy, Horror, Thriller', 'Director': 'Mitchell Altieri', 'Writer': 'Cory Knauf, Adam Weis, Mitchell Altieri, Cory Knauf (story), Phil Flores (story), Mitchell Altieri (story)', 'Actors': 'Joey Kern, Luke Edwards, Bree Williamson, Brad Greenquist', 'Plot': '\"\"A Beginners Guide To Snuff\"\" is a pitch black comedy thriller in the vein of early Coen Brothers films.', 'Language': 'English', 'Country': 'USA', 'Awards': '3 wins & 2 nominations.', 'Poster': 'https://images-na.ssl-images-amazon.com/images/M/MV5BYTkwZWRlMDctYzBmOS00OTA4LWE3NzgtOTQ4ZDNhNGNkNDJlXkEyXkFqcGdeQXVyMTQ2OTU2OTQ@._V1_SX300.jpg', 'Ratings.Source': 'Internet Movie Database', 'Ratings.Value': '7.1/10', 'Metascore': 'N/A', 'imdbRating': '7.1', 'imdbVotes': '32', 'imdbID': 'tt4058122', 'Type': 'movie', 'DVD': 'N/A', 'BoxOffice': '$5,204', 'Production': 'Indican Pictures', 'Website': 'N/A', 'Response': 'True', 'tomatoURL': 'http://www.rottentomatoes.com/m/a_beginners_guide_to_snuff'}, {'Title': \"Dracula: Pages from a Virgin's Diary\", 'Year': '2002', 'Rated': 'N/A', 'Released': '12 Dec 2003', 'Runtime': '73 min', 'Genre': 'Comedy, Horror, Musical', 'Director': 'Guy Maddin', 'Writer': 'Bram Stoker (novel), Mark Godden (ballet Dracula)', 'Actors': 'Wei-Qiang Zhang, Tara Birtwhistle, David Moroni, CindyMarie Small', 'Plot': \"A ballet rendition of Bram Stoker's gothic novel DRACULA, presented in a style reminiscent of the silent expressionistic cinema of the early 20th Century. This work employs the subtle and ...\", 'Language': 'English', 'Country': 'Canada', 'Awards': '3 wins & 2 nominations.', 'Poster': 'https://images-na.ssl-images-amazon.com/images/M/MV5BMTQxNjYxMTI3N15BMl5BanBnXkFtZTcwOTYxMjA0MQ@@._V1._CR76,25,351,471_SY132_CR4,0,89,132_AL_.jpg_V1_SX300.jpg', 'Ratings.Source': 'Internet Movie Database', 'Ratings.Value': '7.0/10', 'Metascore': '84', 'imdbRating': '7.0', 'imdbVotes': '1,638', 'imdbID': 'tt0293113', 'Type': 'movie', 'DVD': '27 Apr 2004', 'BoxOffice': 'N/A', 'Production': 'Zeitgeist Film', 'Website': 'http://www.zeitgeistfilm.com/current/dracula/dracula.html', 'Response': 'True', 'tomatoURL': 'http://www.rottentomatoes.com/m/dracula_pages_from_a_virgins_diary/'}, {'Title': 'Bubba Ho-Tep', 'Year': '2002', 'Rated': 'R', 'Released': '10 Oct 2003', 'Runtime': '92 min', 'Genre': 'Comedy, Fantasy, Horror', 'Director': 'Don Coscarelli', 'Writer': 'Joe R. Lansdale (short story), Don Coscarelli (screenplay)', 'Actors': 'Bruce Campbell, Ossie Davis, Ella Joyce, Heidi Marnhout', 'Plot': 'Elvis and JFK, both alive and in a nursing home, fight for the souls of their fellow residents as they battle an ancient Egyptian Mummy.', 'Language': 'English, German', 'Country': 'USA', 'Awards': '7 wins & 10 nominations.', 'Poster': 'https://images-na.ssl-images-amazon.com/images/M/MV5BODk2OGY3ZTItMDJiNi00MzU4LTkyY2EtODczZjE1MjVhYjY0XkEyXkFqcGdeQXVyMTQxNzMzNDI@._V1_SX300.jpg', 'Ratings.Source': 'Internet Movie Database', 'Ratings.Value': '7.2/10', 'Metascore': '57', 'imdbRating': '7.2', 'imdbVotes': '40,334', 'imdbID': 'tt0281686', 'Type': 'movie', 'DVD': '25 May 2004', 'BoxOffice': 'N/A', 'Production': 'Silver Sphere Corporation', 'Website': 'http://www.bubbahotep.com/', 'Response': 'True', 'tomatoURL': 'http://www.rottentomatoes.com/m/bubba_ho_tep/'}, {'Title': 'Solitude', 'Year': '2014', 'Rated': 'N/A', 'Released': '01 Oct 2014', 'Runtime': '89 min', 'Genre': 'Comedy, Horror, Mystery', 'Director': 'Livingston Oden, Taylor Scott Olson', 'Writer': 'Jana K. Lensing (story), Livingston Oden, Taylor Scott Olson', 'Actors': 'Armin Habibovich, Victoria Lachelle, Brent Latchaw, Alex Cotant', 'Plot': \"After finding an old storage locker filled with his family's history, James Erikson begins a journey to discover the truth behind a mysterious piece of land in the small town of Solitude.\", 'Language': 'English', 'Country': 'USA', 'Awards': '1 win.', 'Poster': 'http://ia.media-imdb.com/images/M/MV5BMjA2NTQwNTg1NV5BMl5BanBnXkFtZTgwNjUxMDQ3MjE@._V1_SX300.jpg', 'Ratings.Source': 'Internet Movie Database', 'Ratings.Value': '8.1/10', 'Metascore': 'N/A', 'imdbRating': '8.1', 'imdbVotes': '44', 'imdbID': 'tt3565836', 'Type': 'movie', 'DVD': 'N/A', 'BoxOffice': 'N/A', 'Production': 'N/A', 'Website': 'N/A', 'Response': 'True', 'tomatoURL': 'https://www.rottentomatoes.com/m/solitude_2014'}, {'Title': 'The Lost Skeleton of Cadavra', 'Year': '2001', 'Rated': 'PG', 'Released': '01 Sep 2001', 'Runtime': '90 min', 'Genre': 'Comedy, Horror, Sci-Fi', 'Director': 'Larry Blamire', 'Writer': 'Larry Blamire', 'Actors': 'Fay Masterson, Andrew Parks, Susan McConnell, Brian Howe', 'Plot': 'A bad scientist and wife, a mad scientist and skeleton, two aliens and their escaped pet are all searching for the elusive element \"\"atmospherium\"\".', 'Language': 'English', 'Country': 'USA', 'Awards': '2 nominations.', 'Poster': 'https://images-na.ssl-images-amazon.com/images/M/MV5BMjA3MDc3Mzk4OV5BMl5BanBnXkFtZTYwODM0MDg5._V1_SX300.jpg', 'Ratings.Source': 'Internet Movie Database', 'Ratings.Value': '7.0/10', 'Metascore': '45', 'imdbRating': '7.0', 'imdbVotes': '4,228', 'imdbID': 'tt0307109', 'Type': 'movie', 'DVD': '22 Jun 2004', 'BoxOffice': 'N/A', 'Production': 'Fragmighty', 'Website': 'http://www.sonypictures.com/movies/thelostskeletonofcadavra/', 'Response': 'True', 'tomatoURL': 'http://www.rottentomatoes.com/m/lost_skeleton_of_cadavra/'}]\n"
          ]
        }
      ],
      "source": [
        "filtered = []\n",
        "for movie in moviedb:\n",
        "    if \"horror\" in movie['Genre'].lower() and \"comedy\" in movie['Genre'].lower():\n",
        "        filtered.append(movie)\n",
        "        # print(movie[\"Title\"], movie[\"Genre\"])\n",
        "\n",
        "# print(filtered)\n",
        "\n",
        "good= []\n",
        "\n",
        "for movie in filtered:\n",
        "    if float(movie[\"imdbRating\"]) >= 5:\n",
        "        good.append(movie)\n",
        "        # print(f\"{movie['Title']} has a rating of {movie['imdbRating']} \")\n",
        "\n",
        "# print(good)\n",
        "\n",
        "better = [movie for movie in filtered if float(movie[\"imdbRating\"]) >= 7]\n",
        "print(better)"
      ]
    },
    {
      "cell_type": "markdown",
      "metadata": {},
      "source": [
        "#### Sorting\n",
        "What were the top 10 highest earning films on the list?  Or better yet, can we sort the entire database of movies by box office numbers?  \n",
        "\n",
        "For now, let's use the `.sort()` method for lists.  Later, we will consider what is really going on with sorting."
      ]
    },
    {
      "cell_type": "code",
      "execution_count": 18,
      "metadata": {},
      "outputs": [
        {
          "ename": "TypeError",
          "evalue": "'<' not supported between instances of 'dict' and 'dict'",
          "output_type": "error",
          "traceback": [
            "\u001b[0;31m---------------------------------------------------------------------------\u001b[0m",
            "\u001b[0;31mTypeError\u001b[0m                                 Traceback (most recent call last)",
            "\u001b[1;32m/workspaces/Fall-2023-files/ClassActivities/Week11/1-Monday.ipynb Cell 11\u001b[0m line \u001b[0;36m3\n\u001b[1;32m      <a href='vscode-notebook-cell://codespaces%2Bhumble-xylophone-x5wx599vv7xx3pgxg/workspaces/Fall-2023-files/ClassActivities/Week11/1-Monday.ipynb#X13sdnNjb2RlLXJlbW90ZQ%3D%3D?line=0'>1</a>\u001b[0m sorteddb \u001b[39m=\u001b[39m moviedb\u001b[39m.\u001b[39mcopy()\n\u001b[0;32m----> <a href='vscode-notebook-cell://codespaces%2Bhumble-xylophone-x5wx599vv7xx3pgxg/workspaces/Fall-2023-files/ClassActivities/Week11/1-Monday.ipynb#X13sdnNjb2RlLXJlbW90ZQ%3D%3D?line=2'>3</a>\u001b[0m sorteddb\u001b[39m.\u001b[39;49msort()\n\u001b[1;32m      <a href='vscode-notebook-cell://codespaces%2Bhumble-xylophone-x5wx599vv7xx3pgxg/workspaces/Fall-2023-files/ClassActivities/Week11/1-Monday.ipynb#X13sdnNjb2RlLXJlbW90ZQ%3D%3D?line=3'>4</a>\u001b[0m \u001b[39mprint\u001b[39m(sorteddb[:\u001b[39m5\u001b[39m])\n",
            "\u001b[0;31mTypeError\u001b[0m: '<' not supported between instances of 'dict' and 'dict'"
          ]
        }
      ],
      "source": [
        "sorteddb = moviedb.copy()\n",
        "\n",
        "sorteddb.sort()\n",
        "print(sorteddb[:5])"
      ]
    },
    {
      "cell_type": "markdown",
      "metadata": {},
      "source": [
        "hmm... that doesn't work.  So what can we do?  What can we sort?\n",
        "\n",
        "What does sorting even mean???  Let's first do an example by hand.\n",
        "\n",
        "In the cell below, think how you would sort the list of numbers:"
      ]
    },
    {
      "cell_type": "code",
      "execution_count": null,
      "metadata": {},
      "outputs": [],
      "source": [
        "5, 8, 3, 19, 12, 0, 100, 2.999, 1.98, 1.89\n",
        "\n",
        "sorted:\n",
        "0, 2.99, 3, 5, 8, 12, 19, 100\n",
        "\n"
      ]
    },
    {
      "cell_type": "markdown",
      "metadata": {},
      "source": [
        "What else can we sort?  \n",
        "\n",
        "`int`: \n",
        "\n",
        "`float`:\n",
        "\n",
        "`bool`:\n",
        "\n",
        "`str`:\n",
        "\n",
        "`list`:\n",
        "\n",
        "`dict`:\n",
        "\n",
        "`tuple`:\n",
        "\n",
        "`set`:\n",
        "\n",
        "Try these out to determine whether they sort, and if so, in what way."
      ]
    },
    {
      "cell_type": "code",
      "execution_count": 29,
      "metadata": {},
      "outputs": [
        {
          "name": "stdout",
          "output_type": "stream",
          "text": [
            "False\n",
            "['Cherry', 'a', 'an orange', 'apple', 'apricot', 'banana', 'watermelon']\n"
          ]
        }
      ],
      "source": [
        "print([1,2,3, 6] < [1, 1, 4, 1, 2, 9, 9])\n",
        "lst = ['apple', \"a\", 'banana', \"Cherry\", \"apricot\", \"watermelon\", \"an orange\"]\n",
        "lst.sort()\n",
        "print(lst)"
      ]
    },
    {
      "cell_type": "markdown",
      "metadata": {},
      "source": [
        "### Breaking Ties\n",
        "\n",
        "It should be pretty clear how to sort numbers (be they integers or floats).  What about more complicated types, like strings and tuples?  \n",
        "\n",
        "For example, who \"wins\" between Alexander and Alexis?  Try it!"
      ]
    },
    {
      "cell_type": "code",
      "execution_count": null,
      "metadata": {},
      "outputs": [],
      "source": []
    },
    {
      "cell_type": "markdown",
      "metadata": {},
      "source": [
        "Tuples will turn out to be very useful for sorting.  Look at how the following list of tuples gets sorted."
      ]
    },
    {
      "cell_type": "code",
      "execution_count": 31,
      "metadata": {},
      "outputs": [
        {
          "name": "stdout",
          "output_type": "stream",
          "text": [
            "[('a', 1, '10'), ('a', 1, '9'), ('a', 2, '9'), ('abc', 3, '1'), ('abc', 30, '0')]\n"
          ]
        }
      ],
      "source": [
        "tupleList = [('abc',3,'1'),('a',1,'10'),('a', 2,'9'),('a', 1,'9'),('abc',30,'0')]\n",
        "tupleList.sort()\n",
        "print(tupleList)"
      ]
    },
    {
      "cell_type": "markdown",
      "metadata": {},
      "source": [
        "What is going on here?  Explain how ties are broken"
      ]
    }
  ],
  "metadata": {
    "colab": {
      "include_colab_link": true,
      "provenance": []
    },
    "kernelspec": {
      "display_name": "Python 3",
      "name": "python3"
    },
    "language_info": {
      "codemirror_mode": {
        "name": "ipython",
        "version": 3
      },
      "file_extension": ".py",
      "mimetype": "text/x-python",
      "name": "python",
      "nbconvert_exporter": "python",
      "pygments_lexer": "ipython3",
      "version": "3.10.8"
    }
  },
  "nbformat": 4,
  "nbformat_minor": 0
}
