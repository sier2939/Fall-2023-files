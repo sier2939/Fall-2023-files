{
 "cells": [
  {
   "cell_type": "markdown",
   "metadata": {},
   "source": [
    "# Wednesday, September 6\n",
    "\n",
    "Today we will practice writing and using functions in python"
   ]
  },
  {
   "cell_type": "markdown",
   "metadata": {},
   "source": [
    "## Announcements and Reminders\n",
    "- Programming Assignment 1 due tonight\n",
    "- Chapter 4 Exercises due Friday night\n",
    "- Chapter 5 Reading will be due Monday\n",
    "\n",
    "## Who as the first question?"
   ]
  },
  {
   "cell_type": "markdown",
   "metadata": {},
   "source": [
    "# Activity: The `return` of functions\n",
    "\n",
    "We can classify functions in python (or any programming language) into two types: functions that just do something, and functions that *return* something.  The goal of this activity is to better understand these return-type functions.\n",
    "\n",
    "(These returning functions are much closer to how we think of functions in mathematics, although the functions in programming can do more: they can do things before they return a value.)\n",
    "\n",
    "### Warmup\n",
    "For each function defined below, look at the code and try to guess what the function does.  Then try them out by calling the functions (and printing their output)."
   ]
  },
  {
   "cell_type": "code",
   "execution_count": 6,
   "metadata": {},
   "outputs": [
    {
     "name": "stdout",
     "output_type": "stream",
     "text": [
      "14\n",
      "6\n"
     ]
    }
   ],
   "source": [
    "def gnate(input):\n",
    "  output = input+ (5 % 3)\n",
    "  return output\n",
    "\n",
    "print(gnate(12))\n",
    "\n",
    "#adding 2 remainder of 5 and 3\n",
    "\n",
    "def nate(input): \n",
    "  output = input - (10 % 4)\n",
    "  return output \n",
    "\n",
    "print (nate(8))"
   ]
  },
  {
   "cell_type": "code",
   "execution_count": 9,
   "metadata": {},
   "outputs": [
    {
     "name": "stdout",
     "output_type": "stream",
     "text": [
      "27\n"
     ]
    }
   ],
   "source": [
    "def gnina(x):\n",
    "  x = x+7\n",
    "  y = x\n",
    "  x = 3*y\n",
    "  y = x - 2*y\n",
    "  return x\n",
    "\n",
    "print(gnina(2))\n",
    "# print(x) doesnt work\n"
   ]
  },
  {
   "cell_type": "code",
   "execution_count": 15,
   "metadata": {},
   "outputs": [
    {
     "name": "stdout",
     "output_type": "stream",
     "text": [
      "231\n"
     ]
    }
   ],
   "source": [
    "def gnatasha(output:int)->int:\n",
    "  input = output*3\n",
    "  return input\n",
    "\n",
    "print(gnatasha(77))"
   ]
  },
  {
   "cell_type": "markdown",
   "metadata": {},
   "source": [
    "### Variables and functions\n",
    "\n",
    "Examine the code below and then execute it. Pay attention to the values of the variables.  What can you conclude about how python works?"
   ]
  },
  {
   "cell_type": "code",
   "execution_count": 22,
   "metadata": {},
   "outputs": [
    {
     "name": "stdout",
     "output_type": "stream",
     "text": [
      "35\n",
      "35\n"
     ]
    }
   ],
   "source": [
    "a = 5\n",
    "b = 10\n",
    "def gnick(a, n):\n",
    "  return a*(b + n)\n",
    "\n",
    "def gnikolai(x, y):\n",
    "  x = x + 3\n",
    "  y = y*2\n",
    "  z = x + y\n",
    "  return z\n",
    "\n",
    "def gnorman(z):\n",
    "  x = 1\n",
    "  y = z+1  #y = 6\n",
    "  a = gnikolai(x,y) #(1, 6) -> 16\n",
    "  b = gnikolai(y,z) #(6,5)-> b = 19\n",
    "  return a+b\n",
    "\n",
    "n = 7\n",
    "\n",
    "# print(gnick(3,4))\n",
    "# print(gnick(n,a))\n",
    "# print(gnikolai(5,10))\n",
    "print(gnorman(a))\n",
    "print(gnorman(a))"
   ]
  },
  {
   "cell_type": "markdown",
   "metadata": {},
   "source": [
    "### Composition\n",
    "\n",
    "Functions get really powerful is when you combine them.  In the last example, the `gnorman` function called on the `gnikolai` function (twice) as part of its execution.  \n",
    "\n",
    "Stacking functions like this can also happen when you call them. We have already seen this with our favorite `int(input(\"prompt\"))`.  \n",
    "\n",
    "Try writing two functions: one equivalent to the function $f(x) = x+7$ and another equivalent to $g(x) = x^2$.  See what happens when you call $f(g(x))$ and $g(f(x))$."
   ]
  },
  {
   "cell_type": "code",
   "execution_count": null,
   "metadata": {},
   "outputs": [],
   "source": []
  },
  {
   "cell_type": "markdown",
   "metadata": {},
   "source": [
    "How do your results compare to the following functions? (For these to work, you need to define `f` and `g` correctly above.)"
   ]
  },
  {
   "cell_type": "code",
   "execution_count": null,
   "metadata": {},
   "outputs": [],
   "source": [
    "def fg(x):\n",
    "  x = g(x)\n",
    "  x = f(x)\n",
    "  return x\n",
    "\n",
    "def gf(x):\n",
    "  x = f(x)\n",
    "  x = g(x)\n",
    "  return x"
   ]
  },
  {
   "cell_type": "markdown",
   "metadata": {},
   "source": [
    "### Self reference\n",
    "\n",
    "We have seen that functions can call other functions.  Can functions call themselves?  What would happen if you tried to execute the following code? (Run at your own risk)"
   ]
  },
  {
   "cell_type": "code",
   "execution_count": 28,
   "metadata": {},
   "outputs": [
    {
     "name": "stdout",
     "output_type": "stream",
     "text": [
      "6\n"
     ]
    }
   ],
   "source": [
    "def gnoel(n):\n",
    "  if n == 0:\n",
    "    return 0\n",
    "  else:\n",
    "    return n + gnoel(n-1)\n",
    "\n",
    "print(gnoel(3))"
   ]
  },
  {
   "cell_type": "markdown",
   "metadata": {},
   "source": [
    "Can you improve the code above so it isn't \"broken\"?  What if we add an `if/else` condition?"
   ]
  }
 ],
 "metadata": {
  "kernelspec": {
   "display_name": "Python 3",
   "language": "python",
   "name": "python3"
  },
  "language_info": {
   "codemirror_mode": {
    "name": "ipython",
    "version": 3
   },
   "file_extension": ".py",
   "mimetype": "text/x-python",
   "name": "python",
   "nbconvert_exporter": "python",
   "pygments_lexer": "ipython3",
   "version": "3.10.8"
  },
  "orig_nbformat": 4
 },
 "nbformat": 4,
 "nbformat_minor": 2
}
