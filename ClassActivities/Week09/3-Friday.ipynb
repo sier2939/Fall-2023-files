{
  "cells": [
    {
      "cell_type": "markdown",
      "metadata": {},
      "source": [
        "# Friday, October 20\n",
        "\n",
        "## Announcements and Reminders\n",
        "- Programming Assignment 4 due tonight.\n",
        "- Chapter 8 and 9 exercises due tonight.\n",
        "- Read chapter 10 for Monday.\n",
        "\n",
        "### Any questions???"
      ]
    },
    {
      "cell_type": "code",
      "execution_count": 3,
      "metadata": {},
      "outputs": [
        {
          "name": "stdout",
          "output_type": "stream",
          "text": [
            "aven\n",
            "Edgar Allen Poe\n",
            "\n",
            "Once upon a midnight dreary, while I pondered, weak and weary\n",
            "Over many a\n",
            "['The', 'Raven', 'Edgar', 'Allen', 'Poe', 'Once', 'upon', 'a', 'midnight', 'dreary,', 'while', 'I', 'pondered,', 'weak', 'and', 'weary', 'Over', 'many', 'a', 'quaint', 'and', 'curious', 'volume', 'of', 'forgotten', 'lore,', 'While', 'I', 'nodded,', 'nearly', 'napping,', 'suddenly', 'there', 'came', 'a', 'tapping,', 'As', 'of', 'someone', 'gently', 'rapping,', 'rapping', 'on', 'my', 'chamber', 'door.', \"'Tis\", 'some', \"visitor,'\", 'I', 'muttered,', \"'tapping\", 'on', 'my', 'chamber', 'door.', 'Only', 'this,', 'and', 'nothing', \"more.'\", 'Ah,', 'distinctly,', 'I', 'remember', 'it', 'was', 'in', 'the', 'bleak', 'December', 'And', 'each', 'separate', 'dying', 'ember', 'wrought', 'its', 'ghost', 'upon', 'the', 'floor.', 'Eagerly', 'I', 'wished', 'the', 'morrow,', 'vainly', 'I', 'had', 'sought', 'to', 'borrow', 'From', 'my', 'books', 'surcease', 'of', 'sorrow--sorrow', 'for', 'the', 'lost', 'Lenore;', 'For', 'the', 'rare', 'and', 'radiant', 'maiden', 'whom', 'the', 'angels', 'named', 'Lenore', 'Nameless', 'here', 'forever', 'more.', 'And', 'the', 'silken', 'sad', 'uncertainly', 'rustling', 'of', 'each', 'purple', 'curtain', 'Thrilled', 'me,', 'filled', 'me', 'with', 'fantastic', 'terror', 'never', 'felt', 'before.', 'So,', 'to', 'still', 'the', 'beating', 'of', 'my', 'heart,', 'I', 'stood', 'repeating', 'Tis', 'some', 'visitor', 'entreating', 'entrance', 'at', 'my', 'chamber', 'door.', 'Some', 'late', 'visitor', 'entreating', 'entrance', 'at', 'my', 'chamber', 'door.', 'This', 'it', 'is', 'and', 'nothing', 'more.', 'Presently', 'my', 'soul', 'grew', 'strong,', 'hesitating', 'then', 'no', 'longer', \"'Sir,'\", 'said', 'I,', \"'Or\", 'madam,', 'truly', 'your', 'forgiveness', 'I', 'implore.', 'But', 'the', 'fact', 'is,', 'I', 'was', 'napping,', 'and', 'so', 'gently', 'you', 'came', 'rapping,', 'And', 'so', 'faintly', 'you', 'came', 'tapping,', 'tapping', 'at', 'my', 'chamber', 'door,', 'That', 'I', 'scare', 'was', 'sure', 'I', 'heard', \"you'\", '-', 'here', 'I', 'opened', 'wide', 'the', 'door.', 'Darkness', 'there', 'and', 'nothing', 'more.', 'Deep', 'into', 'the', 'darkness,', 'peering;', 'long', 'I', 'stood', 'there,', 'wondering', 'fearing', 'Doubting,', 'dreaming', 'dreams', 'no', 'mortal', 'ever', 'dared', 'to', 'dream', 'before.', 'But', 'the', 'silence', 'was', 'unbroken,', 'and', 'the', 'stillness', 'gave', 'no', 'token', 'And', 'the', 'only', 'word', 'there', 'spoken', 'was', 'the', 'whispered', 'word', \"'Lenore!'\", 'This', 'I', 'whispered,', 'and', 'an', 'echo', 'murmered', 'back,', \"'Lenore!'\", 'Merely', 'this', 'and', 'nothing', 'more.', 'Back', 'into', 'my', 'chamber', 'turning,', 'all', 'my', 'soul', 'within', 'me', 'burning,', 'soon', 'again', 'I', 'heard', 'a', 'tapping', 'somewhat', 'louder', 'than', 'before.', \"'Surely,'\", 'said', 'I,', \"'surely,\", 'that', 'is', 'something', 'at', 'my', 'window', 'lattice', 'Let', 'me', 'see', 'then', 'what', 'thereat', 'is', 'and', 'this', 'mystery', 'explore.', 'Let', 'my', 'heart', 'be', 'still', 'a', 'minute,', 'and', 'this', 'mystery', 'explore.', 'Tis', 'the', 'wind', 'and', 'nothing', \"more!'\", 'Open', 'wide', 'I', 'flung', 'the', 'shutter,', 'when', 'with', 'many', 'a', 'flirt', 'and', 'flutter', 'In', 'there', 'stepped', 'a', 'stately', 'raven', 'of', 'the', 'saintly', 'days', 'of', 'yore.', 'Not', 'the', 'least', 'obesience', 'made', 'he,', 'not', 'a', 'minute', 'stopped', 'or', 'stayed', 'he', 'But', 'with', 'mein', 'of', 'lord', 'or', 'lady,', 'perched', 'above', 'my', 'chamber', 'door', 'Perched', 'upon', 'a', 'bust', 'of', 'Pallas', 'just', 'above', 'my', 'chamber', 'door.', 'Perched', 'and', 'sat', 'and', 'nothing', 'more.', 'Then', 'this', 'ebony', 'bird', 'beguiling', 'my', 'sad', 'fancy', 'into', 'smiling', 'By', 'the', 'grave', 'and', 'stern', 'decorum', 'of', 'the', 'countenance', 'it', 'wore', \"'Though\", 'thy', 'crest', 'be', 'shorn', 'and', 'shaven,', \"thou,'\", 'I', 'said,', \"'art\", 'sure', 'no', 'craven', 'Ghastly,', 'grim', 'and', 'ancient', 'raven,', 'wandering', 'from', 'the', 'nightly', 'shore.', 'Tell', 'me', 'what', 'thy', 'lordly', 'name', 'is,', 'on', 'the', \"night's\", 'Plutonean', \"shore!'\", 'Quoth', 'the', 'raven:', \"'Nevermore.'\", 'Much', 'I', 'marvelled', 'this', 'ungainly', 'foul', 'to', 'hear', 'discource', 'so', 'plainly.', 'Though', 'its', 'answer', 'little', 'meaning,', 'little', 'relevancy', 'bore.', 'For', 'we', 'cannot', 'help', 'agreeing', 'that', 'no', 'living', 'human', 'being', 'Ever', 'yet', 'was', 'blessed', 'with', 'seeing', 'bird', 'above', 'his', 'chamber', 'door', 'Bird', 'or', 'beast', 'upon', 'the', 'scultured', 'bust', 'above', 'his', 'chamber', 'door', 'With', 'such', 'name', 'as', \"'Nevermore.'\", 'But', 'the', 'Raven,', 'sitting', 'lonely', 'on', 'the', 'placid', 'bust,', 'spoke', 'only', 'That', 'one', 'word,', 'as', 'if', 'his', 'soul,', 'in', 'that', 'one', 'word,', 'he', 'did', 'out', 'outpour.', 'Nothing', 'further', 'then', 'he', 'uttered;', 'not', 'a', 'feather', 'then', 'he', 'fluttered;', \"'Till\", 'I', 'scarcely', 'more', 'than', 'muttered,', '\"Other', 'friends', 'have', 'flown', 'before.\"', 'On', 'the', 'morrow,', 'he', 'will', 'leave', 'me,', 'as', 'my', 'hopes', 'have', 'flown', 'before.\"', 'But', 'the', 'bird', 'said,', \"'Nevermore.'\", 'Startled', 'at', 'the', 'stillness', 'broken,', 'by', 'reply', 'so', 'aptly', 'spoken.', \"'Doubtless,'\", 'said', 'I,', \"'what\", 'it', 'utters', 'is', 'its', 'only', 'stock', 'and', 'store.', 'Caught', 'from', 'some', 'unhappy', 'master,', 'whom', 'unmerciful', 'disaster', 'Followed', 'fast', 'and', 'followed', 'faster,', 'till', 'his', 'song', 'that', 'burden', 'bore.', 'Til', 'the', 'dirges', 'of', 'his', 'hopes', 'that', 'melenchology', 'burden', 'bore', 'Of', '\"Never-nevermore.\"\\'', 'But', 'the', 'raven', 'still', 'beguiling', 'my', 'sad', 'fancy', 'into', 'smiling', 'Straight', 'I', 'wheeled', 'a', 'cushioned', 'seet', 'in', 'front', 'of', 'bird', 'and', 'bust', 'and', 'door', 'Then', 'upon', 'the', 'velvet', 'sinking,', 'I', 'betook', 'myself', 'to', 'linking', 'fancy', 'unto', 'fancy', 'thinking', 'what', 'this', 'ominous', 'bird', 'of', 'yore,', 'What', 'this', 'grim,', 'ungainly,', 'ghastly,', 'gaunt,', 'and', 'ominous', 'bird', 'of', 'yore', 'Meant', 'in', 'croaking', \"'Nevermore.'\", 'This', 'I', 'sat', 'engaged', 'in', 'guessing,', 'but', 'no', 'syllable', 'expressing', 'To', 'the', 'fowl', 'whose', 'fiery', 'eyes', 'now', 'burned', 'into', 'my', \"bosom's\", 'core', 'This', 'and', 'more', 'I', 'sat', 'divining,', 'with', 'my', 'head', 'at', 'rest', 'reclining', 'On', 'the', \"cushion's\", 'velvet', 'lining', 'that', 'the', 'lamplight', 'gloated', \"o'er\", 'But', 'whose', 'velvet', 'violet', 'lining', 'with', 'the', 'lamplight', 'gloating', \"o'er\", 'She', 'shall', 'press,', 'ah,', 'nevermore!', 'Then', 'methought', 'the', 'air', 'grew', 'denser,', 'perfumed', 'from', 'an', 'unseen', 'censor', 'Swung', 'by', 'Seraphim', 'whose', 'footfalls', 'tinkled', 'on', 'the', 'tufted', 'floor.', \"'Wretch,'\", 'I', 'cried,', \"'thy\", 'God', 'hath', 'lent', 'thee,', 'by', 'these', 'angels', 'he', 'hath', 'sent', 'thee', 'Respite,', 'respite', 'and', 'nepenthe', 'from', 'the', 'memories', 'of', 'Lenore.', 'Quaff', 'oh', 'quaff', 'this', 'kind', 'nepenthe', 'and', 'forget', 'this', 'lost', \"Lenore.'\", 'Quoth', 'the', 'raven,', \"'Nevermore.'\", \"'Prophet!'\", 'said', 'I,', \"'thing\", 'of', 'evil,', 'prophet', 'still', 'if', 'bird', 'or', 'devil.', 'Whether', 'temptor', 'sent', 'or', 'tempest', 'tossed', 'thee', 'here', 'ashore.', 'Desolate', 'and', 'all', 'undaunted,', 'by', 'this', 'desert', 'land', 'enchanted', 'By', 'this', 'home', 'of', 'horrors', 'haunted,', 'Tell', 'me', 'truly', 'I', 'implore', 'Is', 'there,', 'is', 'there,', 'balm', 'in', 'Gilead,', 'tell', 'me,', 'tell', 'me,', 'I', \"implore!'\", 'Quoth', 'the', 'raven,', \"'Nevermore.'\", \"'Prophet'\", 'said', 'I,', \"'thing\", 'of', 'evil,', 'prophet', 'still', 'if', 'bird', 'or', 'devil', 'Get', 'thee', 'back', 'into', 'the', 'tempest', 'and', 'the', \"night's\", 'Plutonean', 'shore', 'Tell', 'this', 'soul', 'with', 'sorrow', 'laden,', 'if', 'within', 'some', 'distant', 'Aidenn', 'It', 'will', 'clasp', 'a', 'saintly', 'maiden', 'whom', 'the', 'angels', 'name', 'Lenore', 'Clasp', 'a', 'rare', 'and', 'radiant', 'maiden', 'whom', 'the', 'angels', 'name', \"Lenore?'\", 'Quoth', 'the', 'raven,', \"'Nevermore.'\", 'Be', 'that', 'word', 'our', 'sign', 'of', 'parting,', 'bird', 'or', 'fiend,', 'I', 'shieked', 'upstarting', \"'Get\", 'thee', 'back', 'into', 'the', 'tempest', 'and', 'the', \"night's\", 'Plutonean', 'shore', 'Leave', 'no', 'black', 'plume', 'as', 'a', 'token', 'of', 'the', 'lie', 'thy', 'soul', 'has', 'spoken', 'Leave', 'my', 'loneliness', 'unbroken,', 'quit', 'the', 'bust', 'above', 'my', 'door', 'Take', 'thy', 'beak', 'from', 'out', 'my', 'heart', 'and', 'take', 'thy', 'form', 'from', 'off', 'my', \"door.'\", 'Quoth', 'the', 'raven,', \"'Nevermore.'\", 'And', 'the', 'raven,', 'never', 'flitting,', 'still', 'is', 'sitting,', 'still', 'is', 'sitting', 'On', 'the', 'pallid', 'bust', 'of', 'Pallas,', 'just', 'above', 'my', 'chamber', 'door.', 'And', 'his', 'eyes', 'have', 'all', 'the', 'seeming', 'of', 'a', \"daemon's\", 'that', 'is', 'dreaming', 'And', 'the', 'lamplight', \"o'er\", 'him', 'streaming,', 'throws', 'his', 'shadow', 'on', 'the', 'floor.', 'And', 'my', 'soul', 'from', 'out', 'that', 'shadow', 'floating', 'on', 'the', 'chamber', 'floor', 'Shall', 'be', 'lifted--nevermore.']\n"
          ]
        }
      ],
      "source": [
        "# how to open code \n",
        "with open(\"raven.txt\", \"r\") as f: \n",
        "    contents = f.read()\n",
        "\n",
        "\n",
        "print(contents[5:100])\n",
        "words = contents.split()\n",
        "print(words)"
      ]
    },
    {
      "cell_type": "code",
      "execution_count": 8,
      "metadata": {},
      "outputs": [
        {
          "name": "stdout",
          "output_type": "stream",
          "text": [
            "The Raven\n",
            "\n",
            "Edgar Allen Poe\n",
            "\n"
          ]
        }
      ],
      "source": [
        "with open(\"raven.txt\", \"r\") as f: \n",
        "    \n",
        "    line1 = f.readline()\n",
        "    line2 = f.readline()\n",
        "\n",
        "print(line1)\n",
        "print(line2)\n",
        "\n",
        "\n",
        "# useful if u want a list of each line of things.\n",
        "# if u have huge file u cannot read entire thing as a string so read line by line "
      ]
    },
    {
      "cell_type": "code",
      "execution_count": 12,
      "metadata": {},
      "outputs": [
        {
          "name": "stdout",
          "output_type": "stream",
          "text": [
            "['The Raven\\n', 'Edgar Allen Poe\\n', '\\n', 'Once upon a midnight dreary, while I pondered, weak and weary\\n', 'Over many a quaint and curious volume of forgotten lore,\\n', 'While I nodded, nearly napping, suddenly there came a tapping,\\n', 'As of someone gently rapping, rapping on my chamber door.\\n', \"'Tis some visitor,' I muttered, 'tapping on my chamber door.\\n\", \"Only this, and nothing more.'\\n\", '\\n', 'Ah, distinctly, I remember it was in the bleak December\\n', 'And each separate dying ember wrought its ghost upon the floor.\\n', 'Eagerly I wished the morrow, vainly I had sought to borrow\\n', 'From my books surcease of sorrow--sorrow for the lost Lenore;\\n', 'For the rare and radiant maiden whom the angels named Lenore\\n', 'Nameless here forever more.\\n', '\\n', 'And the silken sad uncertainly rustling of each purple curtain\\n', 'Thrilled me, filled me with fantastic terror never felt before.\\n', 'So, to still the beating of my heart, I stood repeating\\n', 'Tis some visitor entreating entrance at my chamber door.\\n', 'Some late visitor entreating entrance at my chamber door.\\n', 'This it is and nothing more.\\n', '\\n', 'Presently my soul grew strong, hesitating then no longer\\n', \"'Sir,' said I, 'Or madam, truly your forgiveness I implore.\\n\", 'But the fact is, I was napping, and so gently you came rapping,\\n', 'And so faintly you came tapping, tapping at my chamber door,\\n', \"That I scare was sure I heard you' - here I opened wide the door.\\n\", 'Darkness there and nothing more.\\n', '\\n', 'Deep into the darkness, peering; long I stood there, wondering fearing\\n', 'Doubting, dreaming dreams no mortal ever dared to dream before.\\n', 'But the silence was unbroken, and the stillness gave no token\\n', \"And the only word there spoken was the whispered word 'Lenore!'\\n\", \"This I whispered, and an echo murmered back, 'Lenore!'\\n\", 'Merely this and nothing more.\\n', '\\n', 'Back into my chamber turning, all my soul within me burning,\\n', 'soon again I heard a tapping somewhat louder than before.\\n', \"'Surely,' said I, 'surely, that is something at my window lattice\\n\", 'Let me see then what thereat is and this mystery explore.\\n', 'Let my heart be still a minute, and this mystery explore.\\n', \"Tis the wind and nothing more!'\\n\", '\\n', 'Open wide I flung the shutter, when with many a flirt and flutter\\n', 'In there stepped a stately raven of the saintly days of yore.\\n', 'Not the least obesience made he, not a minute stopped or stayed he\\n', 'But with mein of lord or lady, perched above my chamber door\\n', 'Perched upon a bust of Pallas just above my chamber door.\\n', 'Perched and sat and nothing more.\\n', '\\n', 'Then this ebony bird beguiling my sad fancy into smiling\\n', 'By the grave and stern decorum of the countenance it wore\\n', \"'Though thy crest be shorn and shaven, thou,' I said, 'art sure no craven\\n\", 'Ghastly, grim and ancient raven, wandering from the nightly shore.\\n', \"Tell me what thy lordly name is, on the night's Plutonean shore!'\\n\", \"Quoth the raven: 'Nevermore.'\\n\", '\\n', 'Much I marvelled this ungainly foul to hear discource so plainly.\\n', 'Though its answer little meaning, little relevancy bore.\\n', 'For we cannot help agreeing that no living human being\\n', 'Ever yet was blessed with seeing bird above his chamber door\\n', 'Bird or beast upon the scultured bust above his chamber door\\n', \"With such name as 'Nevermore.'\\n\", '\\n', 'But the Raven, sitting lonely on the placid bust, spoke only\\n', 'That one word, as if his soul, in that one word, he did out outpour.\\n', 'Nothing further then he uttered; not a feather then he fluttered;\\n', '\\'Till I scarcely more than muttered, \"Other friends have flown before.\"\\n', 'On the morrow, he will leave me, as my hopes have flown before.\"\\n', \"But the bird said, 'Nevermore.'\\n\", '\\n', 'Startled at the stillness broken, by reply so aptly spoken.\\n', \"'Doubtless,' said I, 'what it utters is its only stock and store.\\n\", 'Caught from some unhappy master, whom unmerciful disaster\\n', 'Followed fast and followed faster, till his song that burden bore.\\n', 'Til the dirges of his hopes that melenchology burden bore\\n', 'Of \"Never-nevermore.\"\\'\\n', '\\n', 'But the raven still beguiling my sad fancy into smiling\\n', 'Straight I wheeled a cushioned seet in front of bird and bust and door\\n', 'Then upon the velvet sinking, I betook myself to linking\\n', 'fancy unto fancy thinking what this ominous bird of yore,\\n', 'What this grim, ungainly, ghastly, gaunt, and ominous bird of yore\\n', \"Meant in croaking 'Nevermore.'\\n\", '\\n', 'This I sat engaged in guessing, but no syllable expressing\\n', \"To the fowl whose fiery eyes now burned into my bosom's core\\n\", 'This and more I sat divining, with my head at rest reclining\\n', \"On the cushion's velvet lining that the lamplight gloated o'er\\n\", \"But whose velvet violet lining with the lamplight gloating o'er\\n\", 'She shall press, ah, nevermore!\\n', '\\n', 'Then methought the air grew denser, perfumed from an unseen censor\\n', 'Swung by Seraphim whose footfalls tinkled on the tufted floor.\\n', \"'Wretch,' I cried, 'thy God hath lent thee, by these angels he hath sent thee\\n\", 'Respite, respite and nepenthe from the memories of Lenore.\\n', \"Quaff oh quaff this kind nepenthe and forget this lost Lenore.'\\n\", \"Quoth the raven, 'Nevermore.'\\n\", '\\n', \"'Prophet!' said I, 'thing of evil, prophet still if bird or devil.\\n\", 'Whether temptor sent or tempest tossed thee here ashore.\\n', 'Desolate and all undaunted, by this desert land enchanted\\n', 'By this home of horrors haunted, Tell me truly I implore\\n', \"Is there, is there, balm in Gilead, tell me, tell me, I implore!'\\n\", \"Quoth the raven, 'Nevermore.'\\n\", '\\n', \"'Prophet' said I, 'thing of evil, prophet still if bird or devil\\n\", \"Get thee back into the tempest and the night's Plutonean shore\\n\", 'Tell this soul with sorrow laden, if within some distant Aidenn\\n', 'It will clasp a saintly maiden whom the angels name Lenore\\n', \"Clasp a rare and radiant maiden whom the angels name Lenore?'\\n\", \"Quoth the raven, 'Nevermore.'\\n\", '\\n', 'Be that word our sign of parting, bird or fiend, I shieked upstarting\\n', \"'Get thee back into the tempest and the night's Plutonean shore\\n\", 'Leave no black plume as a token of the lie thy soul has spoken\\n', 'Leave my loneliness unbroken, quit the bust above my door\\n', \"Take thy beak from out my heart and take thy form from off my door.'\\n\", \"Quoth the raven, 'Nevermore.'\\n\", '\\n', 'And the raven, never flitting, still is sitting, still is sitting\\n', 'On the pallid bust of Pallas, just above my chamber door.\\n', \"And his eyes have all the seeming of a daemon's that is dreaming\\n\", \"And the lamplight o'er him streaming, throws his shadow on the floor.\\n\", 'And my soul from out that shadow floating on the chamber floor\\n', 'Shall be lifted--nevermore.\\n']\n"
          ]
        }
      ],
      "source": [
        "with open(\"raven.txt\", \"r\") as f: \n",
        "    line1 = f.readlines()\n",
        "\n",
        "print(line1)"
      ]
    },
    {
      "cell_type": "markdown",
      "metadata": {},
      "source": [
        "### Are you sure????\n",
        "\n",
        "We can do an activity, but if you have questions about the programming assignment...."
      ]
    },
    {
      "cell_type": "markdown",
      "metadata": {},
      "source": [
        "okay...fine...\n",
        "\n",
        "## Activity: Counting Words with Dictionaries\n",
        "\n",
        "Today we will explore the `dictionary` type in python.\n",
        "\n",
        "### Motivating Question\n",
        "\n",
        "Which word appears most frequently in Edgar Alan Poe's poem *The Raven*?\n",
        "\n",
        "#### Strategy\n",
        "\n",
        "How would you do this by hand?  How would you keep track of your data?"
      ]
    },
    {
      "cell_type": "markdown",
      "metadata": {},
      "source": [
        "### Dictionary Basics\n",
        "\n",
        "A *dictionary* is a data type in python that holds an unordered list of *key:value* pairs.  The keys must be distinct, the values do not.  \n",
        "\n",
        "Here is an example:"
      ]
    },
    {
      "cell_type": "code",
      "execution_count": 17,
      "metadata": {},
      "outputs": [
        {
          "name": "stdout",
          "output_type": "stream",
          "text": [
            "73\n",
            "{'Oscar': 42, 'Sheldon': 73, 'Andy': 2}\n",
            "{'Oscar': 42, 'Sheldon': 73, 'Andy': 2, 'Alexis': 2}\n",
            "{'Oscar': 42, 'Sheldon': 73, 'Andy': 2, 'Alexis': 2, 7: 'raj'}\n"
          ]
        }
      ],
      "source": [
        "# ex to initialize dictionary \n",
        "# key: value pairs \n",
        "fav_nums = {'Oscar': 42, 'Sheldon': 73}\n",
        "print(fav_nums['Sheldon'])\n",
        "fav_nums[\"Andy\"] = 2\n",
        "print(fav_nums)\n",
        "fav_nums[\"Alexis\"]= 2\n",
        "print(fav_nums)\n",
        "fav_nums[7] = \"raj\"\n",
        "print(fav_nums)\n",
        "\n",
        "# the value can be repeated but the name cannot keys dont have to be strings "
      ]
    },
    {
      "cell_type": "markdown",
      "metadata": {},
      "source": [
        "Some things to try:\n",
        "* How could we find the favorite number of someone in the dictionary?\n",
        "* How could we print out each favorite number?\n",
        "* How could we get a list of the favorite numbers?\n",
        "* How could we add a new person's favorite number?\n",
        "* How could we check whether 496 is anyone's favorite number?\n",
        "* How could we find the largest favorite number of anyone in the dictionary?\n",
        "\n",
        "Here are some dictionary methods you might try to use: `.get()`, `.items()`, `.keys()`, `.values()`, `.update()`, `.pop()`.\n"
      ]
    },
    {
      "cell_type": "code",
      "execution_count": null,
      "metadata": {},
      "outputs": [],
      "source": []
    },
    {
      "cell_type": "markdown",
      "metadata": {},
      "source": [
        "#### Adding new elements to a dictionary\n",
        "\n",
        "With lists, we used `.append()` to add a new item to the list at the end of the list.  Or, if we want to change the item in the list at position 7 to the value 42, say, we could write `mylist[7] = 42`.\n",
        "\n",
        "Dictionaries can similarly be updated like this."
      ]
    },
    {
      "cell_type": "code",
      "execution_count": null,
      "metadata": {},
      "outputs": [],
      "source": [
        "fav_nums.update({\"Wes\":1})\n",
        "fav_nums['Edgar'] = 13\n",
        "\n",
        "print(fav_nums)"
      ]
    },
    {
      "cell_type": "markdown",
      "metadata": {},
      "source": [
        "##### Caution!\n",
        "\n",
        "What happens if you use `.update()` but there is already a key of the name you want to add?  One way to make sure this isn't the case is to use the `.get()` method.  This returns the value of the key, or if the key isn't present, it returns `None`.\n",
        "\n",
        "(You can also set a default value.)"
      ]
    },
    {
      "cell_type": "code",
      "execution_count": null,
      "metadata": {},
      "outputs": [],
      "source": [
        "fav_nums.get('Edgar')"
      ]
    },
    {
      "cell_type": "markdown",
      "metadata": {},
      "source": [
        "### Back to our main question\n",
        "\n",
        "Let's import the text of the poem (saved as `raven.txt` in this folder).  Print it out to make sure it worked."
      ]
    },
    {
      "cell_type": "code",
      "execution_count": null,
      "metadata": {},
      "outputs": [],
      "source": []
    },
    {
      "cell_type": "markdown",
      "metadata": {},
      "source": [
        "Next we should make a list of words.\n",
        "\n",
        "What about punctuation?  There are lots of different types of punctuation we need to consider.  Luckily, python has our backs with the `string` library."
      ]
    },
    {
      "cell_type": "code",
      "execution_count": null,
      "metadata": {},
      "outputs": [],
      "source": [
        "import string\n",
        "\n",
        "print(string.punctuation)"
      ]
    },
    {
      "cell_type": "markdown",
      "metadata": {},
      "source": [
        "Remove all punctuation, and then create a list of words.\n",
        "\n",
        "Also, make all of them lower-case."
      ]
    },
    {
      "cell_type": "code",
      "execution_count": null,
      "metadata": {},
      "outputs": [],
      "source": []
    },
    {
      "cell_type": "markdown",
      "metadata": {},
      "source": [
        "### Counting words in the list\n",
        "\n",
        "Now we should have a list of words from the poem, not including any whitespace or punctiation and all the same case.  How can we count how many times each word appears?\n",
        "\n",
        "A few options:\n",
        "\n",
        "* For each word, we can use `.count()` to see how many times it appears and just print this.  \n",
        "* We could create a list of the number of times each word occurs in the same position as the word in the list of words.  \n",
        "* We could create a variable for each word and have it store the number of times the word occurs\n",
        "* Or we can do exactly this, but the right way: with a dictionary.\n",
        "\n",
        "Let's start working with a smaller example of a string."
      ]
    },
    {
      "cell_type": "code",
      "execution_count": null,
      "metadata": {},
      "outputs": [],
      "source": [
        "import string\n",
        "\n",
        "lyrics = \"We can dance if we want to We can leave your friends behind 'Cause your friends don't dance And if they don't dance Well, they're no friends of mine\"\n",
        "for mark in string.punctuation:\n",
        "  lyrics = lyrics.replace(mark,'')\n",
        "\n",
        "word_list = lyrics.lower().split()\n",
        "print(word_list)\n"
      ]
    },
    {
      "cell_type": "markdown",
      "metadata": {},
      "source": [
        "Now we will create a dictionary and start adding words to it."
      ]
    },
    {
      "cell_type": "code",
      "execution_count": null,
      "metadata": {},
      "outputs": [],
      "source": [
        "# start with an empty dictionary\n",
        "\n",
        "# loop over words is word_list, adding them to the dictionary.\n",
        "# Check to see if the word is in the dictionary.  If so, add to its counter.  Otherwise, start a new entry with counter 1."
      ]
    },
    {
      "cell_type": "markdown",
      "metadata": {},
      "source": [
        "#### Sorting the dictionary\n",
        "\n",
        "You cannot sort dictionaries!  But you can sort lists, and you can create a list out of a dictionary.  The tricky bit is figuring out how to sort that list based not on the words in the list, but by the value of the key that corresponds to that word in the dictionary.\n",
        "\n",
        "The idea is this: define a function that returns some value for each key of the dictionary, and sort by these returned values."
      ]
    }
  ],
  "metadata": {
    "colab": {
      "include_colab_link": true,
      "provenance": []
    },
    "kernelspec": {
      "display_name": "Python 3",
      "name": "python3"
    },
    "language_info": {
      "codemirror_mode": {
        "name": "ipython",
        "version": 3
      },
      "file_extension": ".py",
      "mimetype": "text/x-python",
      "name": "python",
      "nbconvert_exporter": "python",
      "pygments_lexer": "ipython3",
      "version": "3.10.8"
    }
  },
  "nbformat": 4,
  "nbformat_minor": 0
}
