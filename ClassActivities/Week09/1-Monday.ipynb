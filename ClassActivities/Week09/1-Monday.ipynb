{
  "cells": [
    {
      "cell_type": "markdown",
      "metadata": {},
      "source": [
        "# Monday, October 16\n",
        "\n",
        "## Announcements and Reminders\n",
        "- Read the rest of chapter 9 for Monday.\n",
        "- Task 1 for the Final Project is due Monday on Canvas.\n",
        "- Quiz on Wednesday on strings and lists.\n",
        "- Programming Assignment 4 due ~~Wednesday~~ Friday.\n",
        "- Chapter 8 and 9 exercises will be due Friday.\n"
      ]
    },
    {
      "cell_type": "markdown",
      "metadata": {},
      "source": [
        "## Activity: The more things change, the more they stay the same, unless they are lists\n",
        "\n",
        "Today we will consider how to modify iterable objects: strings, lists, and tuples. "
      ]
    },
    {
      "cell_type": "markdown",
      "metadata": {},
      "source": [
        "### Mutating strings and lists\n",
        "\n",
        "Try the following tasks:\n",
        "\n",
        "For the string and list below, write code that prints the 3rd element of the string/list."
      ]
    },
    {
      "cell_type": "code",
      "execution_count": 47,
      "metadata": {},
      "outputs": [],
      "source": [
        "s = \"Bazinga\"\n",
        "l = [\"Sheldon\", \"Leonard\", \"Penny\", \"Howard\", \"Raj\"]"
      ]
    },
    {
      "cell_type": "markdown",
      "metadata": {},
      "source": [
        "Now write code that *removes* the 3rd element in the string/list.  Print out the resulting, shorter, string/list."
      ]
    },
    {
      "cell_type": "code",
      "execution_count": 46,
      "metadata": {},
      "outputs": [
        {
          "name": "stdout",
          "output_type": "stream",
          "text": [
            "2\n",
            "Penny\n",
            "3\n",
            "Howard\n",
            "BAingA!!\n",
            "BAngA!!\n",
            "['Sheldon', 'Leonard', 'Howard', 'bernadette', 'Raj']\n"
          ]
        }
      ],
      "source": [
        "print(l.index(\"Penny\"))\n",
        "print(l[2])\n",
        "\n",
        "print(l.index(\"Howard\"))\n",
        "\n",
        "print(l[3])\n",
        "\n",
        "# if \"Penny\" in l: \n",
        "#     l.remove(\"Penny\")\n",
        "# print(l)\n",
        "\n",
        "\n",
        "s = s.replace(s[2],\"\")\n",
        "print(s)\n",
        "\n",
        "s = s[:2]+ s[3:]\n",
        "print(s)\n",
        "\n",
        "# t = s.replace(\"z\",\"\")\n",
        "# print(t)\n",
        "\n",
        "# you cannot change a string a string is encoded by 0s and 1s  can modify though\n",
        "\n",
        "\n",
        "\n",
        "m = l.remove(\"Penny\")\n",
        "print(l)\n",
        "\n",
        "#  list and strings are different any method on string returns value list modify it \n",
        "\n",
        "# l.remove(1[2])\n",
        "# print(l)\n",
        "\n"
      ]
    },
    {
      "cell_type": "markdown",
      "metadata": {},
      "source": [
        "Now add the character \"!\" to the end of the string, and the name \"Amy\" to the end of the list"
      ]
    },
    {
      "cell_type": "code",
      "execution_count": 40,
      "metadata": {},
      "outputs": [
        {
          "name": "stdout",
          "output_type": "stream",
          "text": [
            "Bazinga!!\n",
            "['Sheldon', 'Leonard', 'Penny', 'Howard', 'Raj', 'amy', 'amy']\n"
          ]
        }
      ],
      "source": [
        "s = s + \"!\"\n",
        "print(s)\n",
        "\n",
        "# l.append(\"amy\")\n",
        "# print(l)\n",
        "\n",
        "l = l +[\"amy\"]\n",
        "print(l)\n",
        "\n",
        "# for strings usually reassign to variable also append doesnt work for strings\n",
        "# just combine srings w +"
      ]
    },
    {
      "cell_type": "markdown",
      "metadata": {},
      "source": [
        "Wait! Maybe \"Bazinga\" should be spelled \"BaZinga\".  Replace the lower case \"z\" with a capital \"Z\".  \n",
        "\n",
        "For the list, add \"Bernadette\" right after \"Howard\".  And move \"Amy\" to be right after \"Sheldon\"."
      ]
    },
    {
      "cell_type": "code",
      "execution_count": 48,
      "metadata": {},
      "outputs": [
        {
          "name": "stdout",
          "output_type": "stream",
          "text": [
            "BaZinga\n",
            "BAZingA\n",
            "['Sheldon', 'Leonard', 'Penny', 'Howard', 'bernadette', 'Raj']\n"
          ]
        },
        {
          "name": "stderr",
          "output_type": "stream",
          "text": [
            "<>:16: SyntaxWarning: 'int' object is not subscriptable; perhaps you missed a comma?\n",
            "<>:16: SyntaxWarning: 'int' object is not subscriptable; perhaps you missed a comma?\n",
            "/tmp/ipykernel_6301/1919148690.py:16: SyntaxWarning: 'int' object is not subscriptable; perhaps you missed a comma?\n",
            "  l = l[:1]+[\"Amy\"]+1[1:]\n",
            "/tmp/ipykernel_6301/1919148690.py:16: SyntaxWarning: 'int' object is not subscriptable; perhaps you missed a comma?\n",
            "  l = l[:1]+[\"Amy\"]+1[1:]\n",
            "/tmp/ipykernel_6301/1919148690.py:16: SyntaxWarning: 'int' object is not subscriptable; perhaps you missed a comma?\n",
            "  l = l[:1]+[\"Amy\"]+1[1:]\n",
            "/tmp/ipykernel_6301/1919148690.py:16: SyntaxWarning: 'int' object is not subscriptable; perhaps you missed a comma?\n",
            "  l = l[:1]+[\"Amy\"]+1[1:]\n"
          ]
        },
        {
          "ename": "TypeError",
          "evalue": "'int' object is not subscriptable",
          "output_type": "error",
          "traceback": [
            "\u001b[0;31m---------------------------------------------------------------------------\u001b[0m",
            "\u001b[0;31mTypeError\u001b[0m                                 Traceback (most recent call last)",
            "\u001b[1;32m/workspaces/Fall-2023-files/ClassActivities/Week09/1-Monday.ipynb Cell 10\u001b[0m line \u001b[0;36m1\n\u001b[1;32m     <a href='vscode-notebook-cell://codespaces%2Bvigilant-waddle-5gq5g44xx9wxfv9gj/workspaces/Fall-2023-files/ClassActivities/Week09/1-Monday.ipynb#X12sdnNjb2RlLXJlbW90ZQ%3D%3D?line=12'>13</a>\u001b[0m \u001b[39mprint\u001b[39m(l)\n\u001b[1;32m     <a href='vscode-notebook-cell://codespaces%2Bvigilant-waddle-5gq5g44xx9wxfv9gj/workspaces/Fall-2023-files/ClassActivities/Week09/1-Monday.ipynb#X12sdnNjb2RlLXJlbW90ZQ%3D%3D?line=14'>15</a>\u001b[0m \u001b[39m# l[1] = \"Amy\"\u001b[39;00m\n\u001b[0;32m---> <a href='vscode-notebook-cell://codespaces%2Bvigilant-waddle-5gq5g44xx9wxfv9gj/workspaces/Fall-2023-files/ClassActivities/Week09/1-Monday.ipynb#X12sdnNjb2RlLXJlbW90ZQ%3D%3D?line=15'>16</a>\u001b[0m l \u001b[39m=\u001b[39m l[:\u001b[39m1\u001b[39m]\u001b[39m+\u001b[39m[\u001b[39m\"\u001b[39m\u001b[39mAmy\u001b[39m\u001b[39m\"\u001b[39m]\u001b[39m+\u001b[39m\u001b[39m1\u001b[39;49m[\u001b[39m1\u001b[39;49m:]\n\u001b[1;32m     <a href='vscode-notebook-cell://codespaces%2Bvigilant-waddle-5gq5g44xx9wxfv9gj/workspaces/Fall-2023-files/ClassActivities/Week09/1-Monday.ipynb#X12sdnNjb2RlLXJlbW90ZQ%3D%3D?line=16'>17</a>\u001b[0m \u001b[39mprint\u001b[39m(l)\n",
            "\u001b[0;31mTypeError\u001b[0m: 'int' object is not subscriptable"
          ]
        }
      ],
      "source": [
        "# s= s.replace(\"z\",\"Z\")\n",
        "s = s[:2]+\"Z\"+s[3:]\n",
        "print(s)\n",
        "\n",
        "# make first A capital \n",
        "\n",
        "s = s.replace(\"a\", \"A\")\n",
        "print(s) \n",
        "\n",
        "l = [\"Sheldon\", \"Leonard\", \"Penny\", \"Howard\", \"Raj\"]\n",
        "\n",
        "l.insert(4, \"bernadette\")\n",
        "print(l)\n",
        "\n",
        "# l[1] = \"Amy\"\n",
        "l = l[:1]+[\"Amy\"]+1[1:]\n",
        "print(l)"
      ]
    },
    {
      "cell_type": "markdown",
      "metadata": {},
      "source": [
        "### Tuples\n",
        "\n",
        "Think of tuples as immutable lists.  We write them with parentheses: `(3,5,1)` instead of `[3,5,1]` (which is a list).  \n",
        "\n",
        "In general, the length of a tuple should be fixed (where as lists can grow and shrink).  It also usually does not make sense to *sort* a tuple, since the position in a tuple is meaningful (for example, a tuple might represent the coordinates of a point $(x,y)$).\n",
        "\n",
        "Explore tuples by executing the code below."
      ]
    },
    {
      "cell_type": "code",
      "execution_count": 49,
      "metadata": {},
      "outputs": [
        {
          "name": "stdout",
          "output_type": "stream",
          "text": [
            "3\n"
          ]
        }
      ],
      "source": [
        "t = (3,5,1)\n",
        "print(t[0])"
      ]
    },
    {
      "cell_type": "code",
      "execution_count": 52,
      "metadata": {},
      "outputs": [
        {
          "name": "stdout",
          "output_type": "stream",
          "text": [
            "3\n",
            "(3, 5, 1, 3, 5, 1)\n",
            "(3, 5, 1, 3, 5, 1, 7)\n"
          ]
        }
      ],
      "source": [
        "t = (3,5,1)\n",
        "print(t[0])\n",
        "t = t+t\n",
        "print(t)\n",
        "t = t+(7,) #wont work whout comma after 7 \n",
        "print(t)\n",
        "# What happens if you run this code a second time?"
      ]
    },
    {
      "cell_type": "code",
      "execution_count": 59,
      "metadata": {},
      "outputs": [
        {
          "name": "stdout",
          "output_type": "stream",
          "text": [
            "2\n",
            "6\n",
            "20 is not in seq\n",
            "NO!\n"
          ]
        }
      ],
      "source": [
        "seq = [1,1,2,3,5,8,13,21,34,55,89]\n",
        "print(seq.count(1))\n",
        "print(seq.index(13))\n",
        "# print(seq.count(20))\n",
        "# print(seq.index(20))\n",
        "if seq.count(20) > 0:\n",
        "   print(seq.index(20))\n",
        "else:\n",
        "    print(\"20 is not in seq\")\n",
        "\n",
        "\n",
        "# dont use try and except if u can use if and else \n",
        "try: \n",
        "    print(seq.index(20))\n",
        "except:\n",
        "    print(\"NO!\")\n",
        "# 20 isnt in the sequence "
      ]
    },
    {
      "cell_type": "markdown",
      "metadata": {},
      "source": [
        "How can you find the index of an element in a tuple if you don't know whether the element is in the tuple to start with?  That is, can you do something like `list.find()` but for tuples?"
      ]
    }
  ],
  "metadata": {
    "colab": {
      "include_colab_link": true,
      "provenance": []
    },
    "kernelspec": {
      "display_name": "Python 3",
      "name": "python3"
    },
    "language_info": {
      "codemirror_mode": {
        "name": "ipython",
        "version": 3
      },
      "file_extension": ".py",
      "mimetype": "text/x-python",
      "name": "python",
      "nbconvert_exporter": "python",
      "pygments_lexer": "ipython3",
      "version": "3.10.8"
    }
  },
  "nbformat": 4,
  "nbformat_minor": 0
}
