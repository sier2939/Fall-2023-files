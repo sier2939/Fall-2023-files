{
  "cells": [
    {
      "cell_type": "markdown",
      "metadata": {
        "id": "NYiRI0CLDVQQ"
      },
      "source": [
        "# Wednesday, August 30\n",
        "We will continue working on the activity from last class; you can update your codespace in the usual way if you want to start fresh in this notebook, but other than the announcements, there is no difference between this and Monday's.\n",
        "\n",
        "#### Announcements\n",
        "- Reading for Chapter 3 was due before class.  Catch up ASAP if you haven't done this.\n",
        "- *Programming Assignment 1* is now available on Canvas.  Due next Wednesday at 11:59pm.\n",
        "- There will be a **quiz** covering chapter 2 at the start of class on Friday.\n"
      ]
    },
    {
      "cell_type": "markdown",
      "metadata": {},
      "source": [
        "### Questions?"
      ]
    },
    {
      "cell_type": "markdown",
      "metadata": {
        "id": "hLj-dXhKD0Tb"
      },
      "source": [
        "## Today's Activity: A very depressing calculator (again)\n",
        "\n",
        "In chapter 2, you read about expressions, variables (and their types), and operations.  Today, we will put those into practice by writing a python program to calculate how much time you have left.\n",
        "\n",
        "More specifically, we will create a python script that asks the \"user\" for their birthday and a target age.  The script will then calculate the number of days or weeks or etc until the user reaches that age."
      ]
    },
    {
      "cell_type": "markdown",
      "metadata": {},
      "source": [
        "### Problem specification\n",
        "\n",
        "Before jumping into writing code, we should specify exactly what we want our program to do.  What requirements do we have?\n",
        "\n",
        "First pass: do everything in years.\n",
        "\n",
        "1. Ask user for name\n",
        "2. Ask user for birthday\n",
        "3. Ask for their target age\n",
        "4. Ask for the current day\n",
        "5. Calculate how many years until they will be that age.\n",
        "   1. First calculate their current age\n",
        "   2. Then subtract.\n",
        "6. Print out a message telling the user how long until they are that age."
      ]
    },
    {
      "cell_type": "markdown",
      "metadata": {},
      "source": [
        "### Building requirements, one at a time\n",
        "\n",
        "Now let's start coding.  But take it slow.  We want to make sure that we can complete each requirement.  As we go, we will test that each requirement is met. \n",
        "\n",
        "Start with requirement 1 above.  What code can we write that does that step?"
      ]
    },
    {
      "cell_type": "code",
      "execution_count": 8,
      "metadata": {},
      "outputs": [
        {
          "ename": "NameError",
          "evalue": "name 'str2date' is not defined",
          "output_type": "error",
          "traceback": [
            "\u001b[0;31m---------------------------------------------------------------------------\u001b[0m",
            "\u001b[0;31mNameError\u001b[0m                                 Traceback (most recent call last)",
            "Cell \u001b[0;32mIn[8], line 37\u001b[0m\n\u001b[1;32m     34\u001b[0m     date_dict\u001b[39m=\u001b[39m{\u001b[39m\"\u001b[39m\u001b[39mmonth\u001b[39m\u001b[39m\"\u001b[39m:(date[\u001b[39m0\u001b[39m]), \u001b[39m\"\u001b[39m\u001b[39mday\u001b[39m\u001b[39m\"\u001b[39m:(date[\u001b[39m1\u001b[39m]), \u001b[39m\"\u001b[39m\u001b[39myear\u001b[39m\u001b[39m\"\u001b[39m: \u001b[39mint\u001b[39m(date[\u001b[39m2\u001b[39m])}\n\u001b[1;32m     35\u001b[0m     \u001b[39mreturn\u001b[39;00m date_dict \n\u001b[0;32m---> 37\u001b[0m date\u001b[39m=\u001b[39m str2date(\u001b[39m\"\u001b[39m\u001b[39m02/25/2002\u001b[39m\u001b[39m\"\u001b[39m)\n\u001b[1;32m     39\u001b[0m \u001b[39mprint\u001b[39m(date[\u001b[39m\"\u001b[39m\u001b[39myear\u001b[39m\u001b[39m\"\u001b[39m])\n",
            "\u001b[0;31mNameError\u001b[0m: name 'str2date' is not defined"
          ]
        }
      ],
      "source": [
        "# name = input(\"hi whats your name\")\n",
        "# print(name)\n",
        "# print(\"hi there, \" + name)\n",
        "# print(f\"hi there, {name}\")\n",
        "\n",
        "# str_bdyear = input(\"please enter your birth year \")\n",
        "# str_currentyr = input(\"please enter current year\")\n",
        "# str_targetyr = input(\"please enter target year\")\n",
        "\n",
        "# years = str_currentyr + str_bdyear\n",
        "\n",
        "# print(years)\n",
        "\n",
        "# year = input(\"what year were you born?\")\n",
        "# target= input(\"whats your target age?\")\n",
        "# now = 2023\n",
        "# age= int(target) - int(year)\n",
        "# print(age)\n",
        "# print(\"In that many years you will be \" + str(age))\n",
        "\n",
        "\n",
        "# name= input(\"hi whats your name\")\n",
        "\n",
        "# print(\" hi there,\" + name)\n",
        "\n",
        "# current_age = input(\"whats your birthday? (dd/mm/yyyy)\")\n",
        "# target_age= input(\"what age do you want to be?\")\n",
        "# now = 2023\n",
        "\n",
        "def str2dte(datestring):\n",
        "    #date string looks like 02/25/2002\n",
        "    date = datestring.split('/')\n",
        "    print(date)\n",
        "    date_dict={\"month\":(date[0]), \"day\":(date[1]), \"year\": int(date[2])}\n",
        "    return date_dict \n",
        "\n",
        "date= str2date(\"02/25/2002\")\n",
        "\n",
        "print(date[\"year\"])\n",
        "\n",
        "\n",
        "\n",
        "\n",
        "\n",
        "\n",
        "\n",
        "\n",
        "\n"
      ]
    },
    {
      "cell_type": "markdown",
      "metadata": {},
      "source": [
        "### Keep going\n",
        "\n",
        "Now iterate this process.  Working in the code above, start adding functionality to your program, making sure that each thing you add is added correctly.\n",
        "\n",
        "You might discover that you should ask the user to enter information in a different format to make your life easier.  Make good choices.\n",
        "\n",
        "This is a good opportunity to write comments in your code to help keep it organized.  Remember, comments start with the `#` character."
      ]
    }
  ],
  "metadata": {
    "colab": {
      "provenance": []
    },
    "kernelspec": {
      "display_name": "Python 3",
      "name": "python3"
    },
    "language_info": {
      "codemirror_mode": {
        "name": "ipython",
        "version": 3
      },
      "file_extension": ".py",
      "mimetype": "text/x-python",
      "name": "python",
      "nbconvert_exporter": "python",
      "pygments_lexer": "ipython3",
      "version": "3.10.8"
    }
  },
  "nbformat": 4,
  "nbformat_minor": 0
}
